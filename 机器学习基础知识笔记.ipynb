{
 "cells": [
  {
   "cell_type": "markdown",
   "metadata": {},
   "source": [
    "## logistic适合二分类问题"
   ]
  },
  {
   "cell_type": "markdown",
   "metadata": {},
   "source": [
    "公式计算为：\n",
    "$$f(x)=\\frac{1}{1+e^{-x}}$$"
   ]
  },
  {
   "cell_type": "code",
   "execution_count": 30,
   "metadata": {},
   "outputs": [
    {
     "name": "stdout",
     "output_type": "stream",
     "text": [
      "0.7310585786300049\n",
      "0.8807970779778823\n",
      "0.9525741268224334\n",
      "0.9820137900379085\n"
     ]
    }
   ],
   "source": [
    "import numpy as np\n",
    "\n",
    "def logistic(x):\n",
    "    return 1 / (1 + np.exp(-x))\n",
    "a = [1,2,3,4]\n",
    "for i in range(len(a)):\n",
    "    print(logistic(a[i]))"
   ]
  },
  {
   "cell_type": "markdown",
   "metadata": {},
   "source": [
    "## softmax适合多标签分类"
   ]
  },
  {
   "cell_type": "markdown",
   "metadata": {},
   "source": [
    "假设有一个数组X，其中$x_i$表示X中的第i个元素，那么这个元素的`softmax`值计算公式为：\n",
    "$${S_i = \\frac {e^{x_i}}{\\sum_{j=0}^{j=n} {e^{x_j}}}}，其中 {\\sum_{i=0}^{i=n} {S_i}}$$\n",
    "一言以蔽之，就是该元素的指数与所有元素指数和的比值。\n",
    "下面是Python实现的方法："
   ]
  },
  {
   "cell_type": "code",
   "execution_count": 13,
   "metadata": {},
   "outputs": [
    {
     "name": "stdout",
     "output_type": "stream",
     "text": [
      "logits中每个元素对应的softmax值为： \n",
      "[0.00426978 0.01160646 0.03154963 0.08576079 0.23312201 0.63369132]\n",
      "softmax所有元素的和为： \n",
      "1.0\n"
     ]
    }
   ],
   "source": [
    "import numpy as np\n",
    "\n",
    "def softmax(x):\n",
    "    return np.exp(x) / np.sum(np.exp(x), axis=0)\n",
    "logits = [1,2,3,4,5,6]\n",
    "sum = 0.0\n",
    "print(\"logits中每个元素对应的softmax值为： \\n%s\" %softmax(logits))\n",
    "for _ in range(len(logits)):\n",
    "    sum += softmax(logits)[_]\n",
    "print(\"softmax所有元素的和为： \\n%s\" %sum)"
   ]
  },
  {
   "cell_type": "markdown",
   "metadata": {},
   "source": [
    "由结果分析可知，`softmax`将任意的一组数经过运算，得到其所有结果的可能分类，在多标签之中，概率最大的值则认定为可能的分类，第二大的可能属于第二个分类以此类推。"
   ]
  }
 ],
 "metadata": {
  "kernelspec": {
   "display_name": "Python 3",
   "language": "python",
   "name": "python3"
  },
  "language_info": {
   "codemirror_mode": {
    "name": "ipython",
    "version": 3
   },
   "file_extension": ".py",
   "mimetype": "text/x-python",
   "name": "python",
   "nbconvert_exporter": "python",
   "pygments_lexer": "ipython3",
   "version": "3.6.4"
  },
  "toc": {
   "nav_menu": {},
   "number_sections": true,
   "sideBar": true,
   "skip_h1_title": false,
   "title_cell": "Table of Contents",
   "title_sidebar": "Contents",
   "toc_cell": false,
   "toc_position": {},
   "toc_section_display": true,
   "toc_window_display": false
  }
 },
 "nbformat": 4,
 "nbformat_minor": 2
}

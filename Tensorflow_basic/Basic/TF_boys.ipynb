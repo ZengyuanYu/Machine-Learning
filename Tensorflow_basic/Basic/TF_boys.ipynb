{
 "cells": [
  {
   "cell_type": "markdown",
   "metadata": {},
   "source": [
    "## Tensorflow基础知识"
   ]
  },
  {
   "cell_type": "markdown",
   "metadata": {},
   "source": [
    "### 权重和偏置\n",
    "#### 代码思路\n",
    "代码具体思路为：\n",
    "- 首先去创建一个函数，其中x为一些随机数，y=0.1x+0.3；\n",
    "- 然后创建权重和偏置的Variable；\n",
    "- 设置损失函数，优化器，进行训练，以及所有Variable初始化；\n",
    "- 将数据搬运到Session里面进行运行。\n",
    "\n",
    "#### 代码讲解\n",
    "- *line5* 数据的创建使用 `numpy.random.rand()` 创建一百个（0~1）之间的数值，`astype()` 设置数值格式为`np.float32`;\n",
    "- *line9* Weights是一个矩阵，可以是多维的，`tf.random_uniform([1], -1.0, 1.0)` 将创建一个一维随机数，数值在(-1~1)之间\n",
    "- *line14* loss设置一个损失函数，其参数是真实值和预测值之差，这里使用的是`reduce_mean()` 均方差，常用的还有交叉熵\n",
    "- *line15* optimizer优化，随机梯度优化算法，学习率为0.5"
   ]
  },
  {
   "cell_type": "code",
   "execution_count": null,
   "metadata": {},
   "outputs": [],
   "source": [
    "import tensorflow as tf\n",
    "import numpy as np\n",
    "\n",
    "# 创建数据\n",
    "x_data = np.random.rand(100).astype(np.float32)\n",
    "y_data = x_data * 0.1 + 0.3\n",
    "\n",
    "# 创建tensorflow结构\n",
    "Weights = tf.Variable(tf.random_uniform([1], -1.0, 1.0)) #1维 数值区间在（-1~1）之间\n",
    "biases = tf.Variable(tf.zeros([1]))\n",
    "\n",
    "y = Weights * x_data + biases\n",
    "\n",
    "loss = tf.reduce_mean(tf.square(y-y_data))\n",
    "optimizer = tf.train.GradientDescentOptimizer(0.5)\n",
    "train = optimizer.minimize(loss)\n",
    "\n",
    "init = tf.initialize_all_variables()\n",
    "# 创建tensorflow结构\n",
    "\n",
    "sess = tf.Session()\n",
    "sess.run(init)\n",
    "\n",
    "for step in range(201):\n",
    "\tsess.run(train)\n",
    "\tif step%20 == 0:\n",
    "\t\tprint(step, sess.run(Weights), sess.run(biases))"
   ]
  },
  {
   "cell_type": "markdown",
   "metadata": {},
   "source": [
    "### Session\n",
    "Session运行的两种方法：\n",
    "- 运行一次\n",
    "```\n",
    "#method1\n",
    "sess = tf.Session()\n",
    "result = sess.run(product)\n",
    "print(result)\n",
    "sess.close()\n",
    "```\n",
    "- 一直运行\n",
    "```\n",
    "#method2\n",
    "with tf.Session() as sess:\n",
    "\tresult2 = sess.run(product)\n",
    "\tprint(result2)\n",
    "```"
   ]
  },
  {
   "cell_type": "code",
   "execution_count": null,
   "metadata": {},
   "outputs": [],
   "source": [
    "import tensorflow as tf\n",
    "\n",
    "matrix1 = tf.constant([[3, 3]])\n",
    "matrix2 = tf.constant([[2],\n",
    "                      [2]])\n",
    "\n",
    "product = tf.matmul(matrix1,  matrix2) #矩阵相乘 np.dot(m1, m2)同理\n",
    "\n",
    "# #method1\n",
    "# sess = tf.Session()\n",
    "# result = sess.run(product)\n",
    "# print(result)\n",
    "# sess.close()\n",
    "\n",
    "#method2\n",
    "with tf.Session() as sess:\n",
    "\tresult2 = sess.run(product)\n",
    "\tprint(result2)"
   ]
  },
  {
   "cell_type": "markdown",
   "metadata": {},
   "source": [
    "### Variable\n",
    "tensorflow的所有定义的变量都必须在`tf.Variable()` 中声明一下才能称之为变量，在运算规则中常量`tf.constant()` 是定义常量的函数，变量+常量=变量"
   ]
  },
  {
   "cell_type": "code",
   "execution_count": null,
   "metadata": {},
   "outputs": [],
   "source": [
    "import tensorflow as tf\n",
    "state = tf.Variable(0, name='counter')\n",
    "one = tf.constant(1)\n",
    "\n",
    "new_value = tf.add(state, one)\n",
    "update = tf.assign(state, new_value)\n",
    "\n",
    "init = tf.global_variables_initializer()\n",
    "\n",
    "with tf.Session() as sess:\n",
    "    sess.run(init)\n",
    "    for _ in range(4):\n",
    "        sess.run(update)\n",
    "        print(sess.run(state))"
   ]
  },
  {
   "cell_type": "markdown",
   "metadata": {},
   "source": [
    "#### placeholder\n",
    "占位符，先将位置占用，赋值在`sess.run()` 里面进行，其中`feed_dict={}` 类似于字典的形式给里面的参数进行赋值"
   ]
  },
  {
   "cell_type": "code",
   "execution_count": null,
   "metadata": {},
   "outputs": [],
   "source": [
    "import tensorflow as tf\n",
    "input1 = tf.placeholder(tf.float32)\n",
    "input2 = tf.placeholder(tf.float32)\n",
    "\n",
    "output = tf.multiply(input1, input2)\n",
    "\n",
    "with tf.Session() as sess:\n",
    "    print(sess.run(output, feed_dict={input1:[7.], input2:[3.]}))"
   ]
  },
  {
   "cell_type": "markdown",
   "metadata": {},
   "source": [
    "## 网络和层"
   ]
  },
  {
   "cell_type": "markdown",
   "metadata": {},
   "source": [
    "### 添加层\n",
    "激活函数的选择有很多种，比如ReLUctant，Sigmod等，现在常用的是ReLU。"
   ]
  },
  {
   "cell_type": "code",
   "execution_count": null,
   "metadata": {},
   "outputs": [],
   "source": [
    "import tensorflow as tf\n",
    "import numpy as np\n",
    "\n",
    "def add_layer(inputs, in_size, out_size, activation_function=None):\n",
    "    Weights = tf.Variable(tf.random_normal([in_size, out_size]))\n",
    "    biases = tf.Variable(tf.zeros([1, out_size]) + 0.1)\n",
    "    Wx_Plus_b = tf.matmul(inputs, Weights) + biases\n",
    "    if activation_function is None:\n",
    "        outputs = Wx_Plus_b\n",
    "    else:\n",
    "        outputs = activation_function(Wx_Plus_b)\n",
    "    return outputs\n",
    "\n",
    "x_data = np.linspace(-1, 1, 300, dtype=np.float32)[:, np.newaxis]\n",
    "noise = np.random.normal(0, 0.05, x_data.shape).astype(np.float32)\n",
    "y_data = np.square(x_data) - 0.5 + noise\n",
    "\n",
    "xs = tf.placeholder(tf.float32, [None, 1])\n",
    "ys = tf.placeholder(tf.float32, [None, 1])\n",
    "\n",
    "l1 = add_layer(xs, 1, 10, activation_function=tf.nn.relu)\n",
    "prediction = add_layer(l1, 10, 1, activation_function=None)\n",
    "#reduction_indices=[1]按行求和\n",
    "loss = tf.reduce_mean(tf.reduce_sum(tf.square(ys-prediction),\n",
    "                    reduction_indices=[1]))\n",
    "train_step = tf.train.GradientDescentOptimizer(0.1).minimize(loss)\n",
    "\n",
    "init = tf.global_variables_initializer()\n",
    "sess = tf.Session()\n",
    "sess.run(init)\n",
    "\n",
    "for i in range(1000):\n",
    "    \n",
    "    sess.run(train_step, feed_dict={xs:x_data, ys:y_data})\n",
    "    if i % 200 == 0 :\n",
    "        print(sess.run(loss, feed_dict={xs:x_data, ys:y_data}))"
   ]
  },
  {
   "cell_type": "markdown",
   "metadata": {},
   "source": [
    "### 可视化"
   ]
  },
  {
   "cell_type": "code",
   "execution_count": 2,
   "metadata": {},
   "outputs": [
    {
     "data": {
      "image/png": "[encoded data removed]",
      "text/plain": [
       "<matplotlib.figure.Figure at 0x7efe3fdce780>"
      ]
     },
     "metadata": {},
     "output_type": "display_data"
    }
   ],
   "source": [
    "import tensorflow as tf\n",
    "import numpy as np\n",
    "import matplotlib.pyplot as plt\n",
    "\n",
    "def add_layer(inputs, in_size, out_size, activation_function=None):\n",
    "    Weights = tf.Variable(tf.random_normal([in_size, out_size]))\n",
    "    biases = tf.Variable(tf.zeros([1, out_size]) + 0.1)\n",
    "    Wx_Plus_b = tf.matmul(inputs, Weights) + biases\n",
    "    if activation_function is None:\n",
    "        outputs = Wx_Plus_b\n",
    "    else:\n",
    "        outputs = activation_function(Wx_Plus_b)\n",
    "    return outputs\n",
    "\n",
    "x_data = np.linspace(-1, 1, 300, dtype=np.float32)[:, np.newaxis]\n",
    "noise = np.random.normal(0, 0.05, x_data.shape).astype(np.float32)\n",
    "y_data = np.square(x_data) - 0.5 + noise\n",
    "\n",
    "xs = tf.placeholder(tf.float32, [None, 1])\n",
    "ys = tf.placeholder(tf.float32, [None, 1])\n",
    "\n",
    "l1 = add_layer(xs, 1, 10, activation_function=tf.nn.relu)\n",
    "prediction = add_layer(l1, 10, 1, activation_function=None)\n",
    "#reduction_indices=[1]按行求和\n",
    "loss = tf.reduce_mean(tf.reduce_sum(tf.square(ys-prediction),\n",
    "                    reduction_indices=[1]))\n",
    "train_step = tf.train.GradientDescentOptimizer(0.1).minimize(loss)\n",
    "\n",
    "init = tf.global_variables_initializer()\n",
    "sess = tf.Session()\n",
    "sess.run(init)\n",
    "\n",
    "fig = plt.figure()\n",
    "ax = fig.add_subplot(1,1,1)\n",
    "ax.scatter(x_data, y_data)\n",
    "plt.ion()\n",
    "plt.show()\n",
    "\n",
    "for i in range(1000):\n",
    "    \n",
    "    sess.run(train_step, feed_dict={xs:x_data, ys:y_data})\n",
    "    if i % 200 == 0 :\n",
    "        #print(sess.run(loss, feed_dict={xs:x_data, ys:y_data}))\n",
    "        try:\n",
    "            ax.lines.remove(lines[0])\n",
    "        except Exception:\n",
    "            pass\n",
    "        \n",
    "        prediction_value = sess.run(prediction, feed_dict={xs:x_data})\n",
    "        lines = ax.plot(x_data, prediction_value, 'r-', lw=5)   \n",
    "        plt.pause(0.1)"
   ]
  }
 ],
 "metadata": {
  "kernelspec": {
   "display_name": "Python 3",
   "language": "python",
   "name": "python3"
  },
  "language_info": {
   "codemirror_mode": {
    "name": "ipython",
    "version": 3
   },
   "file_extension": ".py",
   "mimetype": "text/x-python",
   "name": "python",
   "nbconvert_exporter": "python",
   "pygments_lexer": "ipython3",
   "version": "3.6.4"
  },
  "toc": {
   "nav_menu": {},
   "number_sections": true,
   "sideBar": true,
   "skip_h1_title": false,
   "title_cell": "Table of Contents",
   "title_sidebar": "Contents",
   "toc_cell": false,
   "toc_position": {},
   "toc_section_display": true,
   "toc_window_display": false
  }
 },
 "nbformat": 4,
 "nbformat_minor": 2
}

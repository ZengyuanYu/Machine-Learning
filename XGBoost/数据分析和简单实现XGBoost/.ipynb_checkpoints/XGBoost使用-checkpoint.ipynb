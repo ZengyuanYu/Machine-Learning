{
 "cells": [
  {
   "cell_type": "code",
   "execution_count": 2,
   "metadata": {},
   "outputs": [
    {
     "name": "stdout",
     "output_type": "stream",
     "text": [
      "rfc.score= 0.78419452887538\n",
      "xgbc.score= 0.7872340425531915\n"
     ]
    },
    {
     "name": "stderr",
     "output_type": "stream",
     "text": [
      "/home/yu/anaconda3/lib/python3.6/site-packages/pandas/core/generic.py:4355: SettingWithCopyWarning: \n",
      "A value is trying to be set on a copy of a slice from a DataFrame\n",
      "\n",
      "See the caveats in the documentation: http://pandas.pydata.org/pandas-docs/stable/indexing.html#indexing-view-versus-copy\n",
      "  self._update_inplace(new_data)\n",
      "/home/yu/anaconda3/lib/python3.6/site-packages/sklearn/preprocessing/label.py:151: DeprecationWarning: The truth value of an empty array is ambiguous. Returning False, but in future this will result in an error. Use `array.size > 0` to check that an array is not empty.\n",
      "  if diff:\n"
     ]
    }
   ],
   "source": [
    "import pandas as pd\n",
    "### load_data\n",
    "titanic = pd.read_csv('http://biostat.mc.vanderbilt.edu/wiki/pub/Main/DataSets/titanic.txt')\n",
    "X = titanic[['pclass', 'age', 'sex']]     # 输入空间\n",
    "y = titanic['survived']                   # 输出空间\n",
    "X.age.fillna(X.age.mean(), inplace=True)  # 填充缺失值（均值），inplace=True(无返回值，原地替换）\n",
    "### split_data\n",
    "from sklearn.cross_validation import train_test_split\n",
    "X_train, X_test, y_train, y_test = train_test_split(X, y, test_size=0.25, random_state=33)\n",
    " \n",
    "### feature_extraction\n",
    "from sklearn.feature_extraction import DictVectorizer\n",
    "vec = DictVectorizer(sparse=False)\n",
    "X_train = vec.fit_transform(X_train.to_dict(orient='record'))\n",
    "X_test = vec.transform(X_test.to_dict(orient='record'))\n",
    "\n",
    "### create_model\n",
    "# rfc\n",
    "from sklearn.ensemble import RandomForestClassifier\n",
    "rfc = RandomForestClassifier()\n",
    "rfc.fit(X_train, y_train)\n",
    "\n",
    "# xgbc\n",
    "from xgboost import XGBClassifier\n",
    "xgbc = XGBClassifier()\n",
    "xgbc.fit(X_train, y_train)\n",
    "\n",
    "### model_score\n",
    "print ('rfc.score=',rfc.score(X_test, y_test))\n",
    "print('xgbc.score=',xgbc.score(X_test, y_test))\n"
   ]
  },
  {
   "cell_type": "markdown",
   "metadata": {},
   "source": [
    "读取X和y,然后对X进行最大最小标准化"
   ]
  },
  {
   "cell_type": "code",
   "execution_count": 1,
   "metadata": {},
   "outputs": [
    {
     "name": "stdout",
     "output_type": "stream",
     "text": [
      "[[0.6924903  0.76204143 0.65901545 ... 0.48330458 0.61007322 0.59947266]\n",
      " [0.31954599 0.46370351 0.29667331 ... 0.63710586 0.59309957 0.65493806]\n",
      " [0.47444264 0.51700023 0.43934838 ... 0.26061185 0.16448337 0.24715074]\n",
      " ...\n",
      " [0.30705805 0.52103105 0.31546185 ... 0.70270367 0.68842276 0.75542783]\n",
      " [0.93119499 0.8803319  0.88149056 ... 0.53837158 0.27102531 0.48101661]\n",
      " [0.15928042 0.28841395 0.15351744 ... 0.54607236 0.57403743 0.72024499]]\n",
      "-0.3384961512274949\n"
     ]
    }
   ],
   "source": [
    "import pandas as pd\n",
    "\n",
    "#读取数据\n",
    "X = pd.read_csv('X_noyear_notitle.csv')\n",
    "y = pd.read_csv('Y_noyear_notitle.csv')\n",
    "#标准化\n",
    "from sklearn import preprocessing\n",
    "min_max_scaler = preprocessing.MinMaxScaler()\n",
    "\n",
    "#分割验证集和测试集\n",
    "from sklearn.cross_validation import train_test_split\n",
    "X_train, X_test, y_train, y_test = train_test_split(X, y,\n",
    "                                                test_size=0.25,\n",
    "                                                random_state=33)\n",
    "#特征提取\n",
    "#from sklearn.feature_extraction import DictVectorizer\n",
    "# vec = DictVectorizer(sparse=False)\n",
    "# X_train = vec.fit_transform(X_train.to_dict(orient='record'))\n",
    "# X_test = vec.transform(X_test.to_dict(orient='record'))\n",
    "X_train_Nor = min_max_scaler.fit_transform(X_train)\n",
    "X_test_Nor = min_max_scaler.fit_transform(X_test)\n",
    "print(X_test_Nor)\n",
    "#创建模型\n",
    "from xgboost import XGBRegressor\n",
    "xgbc = XGBRegressor()\n",
    "xgbc.fit(X_train_Nor, y_train)\n",
    "\n",
    "#模型预测\n",
    "print(xgbc.score(X_test_Nor, y_test))"
   ]
  }
 ],
 "metadata": {
  "kernelspec": {
   "display_name": "Python 3",
   "language": "python",
   "name": "python3"
  },
  "language_info": {
   "codemirror_mode": {
    "name": "ipython",
    "version": 3
   },
   "file_extension": ".py",
   "mimetype": "text/x-python",
   "name": "python",
   "nbconvert_exporter": "python",
   "pygments_lexer": "ipython3",
   "version": "3.6.4"
  },
  "toc": {
   "nav_menu": {},
   "number_sections": true,
   "sideBar": true,
   "skip_h1_title": false,
   "title_cell": "Table of Contents",
   "title_sidebar": "Contents",
   "toc_cell": false,
   "toc_position": {},
   "toc_section_display": true,
   "toc_window_display": false
  }
 },
 "nbformat": 4,
 "nbformat_minor": 2
}

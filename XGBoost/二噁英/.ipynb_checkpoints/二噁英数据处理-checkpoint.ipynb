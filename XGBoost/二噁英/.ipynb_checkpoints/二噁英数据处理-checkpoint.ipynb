{
 "cells": [
  {
   "cell_type": "markdown",
   "metadata": {},
   "source": [
    "将1#炉二噁英的排放浓度提取出来存放到excel文件\n"
   ]
  },
  {
   "cell_type": "code",
   "execution_count": 4,
   "metadata": {},
   "outputs": [],
   "source": [
    "import pandas as pd\n",
    "\n",
    "ereying='二噁英工控数据（1#炉）.xlsx'#二噁英数据\n",
    "data = pd.read_excel(ereying, sheet_name=u'二噁英排放浓度')\n",
    "#print(data)\n",
    "data.to_excel('all2_label.xlsx')"
   ]
  },
  {
   "cell_type": "markdown",
   "metadata": {},
   "source": [
    "将时间标注到第一列，且空白格已经赋值为0，不需要注释行来解决了"
   ]
  },
  {
   "cell_type": "code",
   "execution_count": 7,
   "metadata": {},
   "outputs": [],
   "source": [
    "import pandas as pd\n",
    "\n",
    "ereying=pd.DataFrame(pd.read_excel('all2_label.xlsx'))\n",
    "ereying=ereying.set_index(u'时间')\n",
    "\n",
    "#ereying2=ereying.resample('H').sum()\n",
    "#print(ereying2)\n",
    "ereying2.to_csv('ereying2_label.csv',encoding='utf-8')\n",
    "# #-*- coding :utf-8-*-\n",
    "# import pandas as pd\n",
    "\n",
    "\n",
    "# data = pd.DataFrame(pd.read_csv('ereying2.csv'))\n",
    "# data.dropna(inplace=True)\n",
    "# data.to_csv('ereying4.csv')"
   ]
  },
  {
   "cell_type": "markdown",
   "metadata": {},
   "source": []
  },
  {
   "cell_type": "code",
   "execution_count": 42,
   "metadata": {
    "scrolled": true
   },
   "outputs": [
    {
     "name": "stdout",
     "output_type": "stream",
     "text": [
      "done\n",
      "done\n",
      "done\n",
      "done\n",
      "done\n",
      "done\n",
      "done\n",
      "done\n",
      "done\n",
      "done\n",
      "done\n",
      "done\n",
      "done\n",
      "done\n",
      "done\n",
      "done\n",
      "done\n",
      "done\n",
      "done\n",
      "done\n",
      "done\n",
      "done\n",
      "done\n",
      "done\n",
      "done\n",
      "done\n",
      "done\n",
      "done\n",
      "done\n",
      "done\n",
      "done\n",
      "done\n",
      "done\n",
      "done\n",
      "done\n",
      "done\n",
      "done\n",
      "done\n",
      "done\n",
      "done\n",
      "done\n",
      "done\n",
      "done\n",
      "done\n",
      "done\n",
      "done\n",
      "done\n",
      "done\n",
      "done\n",
      "done\n",
      "done\n",
      "done\n",
      "done\n",
      "done\n",
      "done\n",
      "done\n",
      "done\n",
      "done\n",
      "done\n",
      "done\n",
      "done\n",
      "done\n",
      "done\n",
      "done\n",
      "done\n",
      "done\n",
      "done\n",
      "done\n",
      "done\n",
      "done\n",
      "done\n",
      "done\n",
      "done\n",
      "done\n",
      "done\n",
      "done\n",
      "done\n",
      "done\n",
      "done\n",
      "done\n",
      "done\n",
      "done\n",
      "done\n",
      "done\n",
      "done\n",
      "done\n"
     ]
    },
    {
     "ename": "KeyboardInterrupt",
     "evalue": "",
     "output_type": "error",
     "traceback": [
      "\u001b[0;31m---------------------------------------------------------------------------\u001b[0m",
      "\u001b[0;31mKeyboardInterrupt\u001b[0m                         Traceback (most recent call last)",
      "\u001b[0;32m<ipython-input-42-0d161b54cbde>\u001b[0m in \u001b[0;36m<module>\u001b[0;34m()\u001b[0m\n\u001b[1;32m     11\u001b[0m \u001b[0;32mfor\u001b[0m \u001b[0mi\u001b[0m \u001b[0;32min\u001b[0m \u001b[0mrange\u001b[0m\u001b[0;34m(\u001b[0m\u001b[0mlen\u001b[0m\u001b[0;34m(\u001b[0m\u001b[0mdata1\u001b[0m\u001b[0;34m)\u001b[0m\u001b[0;34m)\u001b[0m\u001b[0;34m:\u001b[0m\u001b[0;34m\u001b[0m\u001b[0m\n\u001b[1;32m     12\u001b[0m     \u001b[0;32mfor\u001b[0m \u001b[0mj\u001b[0m \u001b[0;32min\u001b[0m \u001b[0mrange\u001b[0m\u001b[0;34m(\u001b[0m\u001b[0mlen\u001b[0m\u001b[0;34m(\u001b[0m\u001b[0mdata2\u001b[0m\u001b[0;34m)\u001b[0m\u001b[0;34m)\u001b[0m\u001b[0;34m:\u001b[0m\u001b[0;34m\u001b[0m\u001b[0m\n\u001b[0;32m---> 13\u001b[0;31m         \u001b[0;32mif\u001b[0m \u001b[0mdata1\u001b[0m\u001b[0;34m.\u001b[0m\u001b[0miloc\u001b[0m\u001b[0;34m[\u001b[0m\u001b[0mi\u001b[0m\u001b[0;34m,\u001b[0m\u001b[0;36m0\u001b[0m\u001b[0;34m]\u001b[0m \u001b[0;34m==\u001b[0m \u001b[0mdata2\u001b[0m\u001b[0;34m.\u001b[0m\u001b[0miloc\u001b[0m\u001b[0;34m[\u001b[0m\u001b[0mj\u001b[0m\u001b[0;34m,\u001b[0m\u001b[0;36m0\u001b[0m\u001b[0;34m]\u001b[0m\u001b[0;34m:\u001b[0m\u001b[0;34m\u001b[0m\u001b[0m\n\u001b[0m\u001b[1;32m     14\u001b[0m             \u001b[0mprint\u001b[0m\u001b[0;34m(\u001b[0m\u001b[0;34m\"done\"\u001b[0m\u001b[0;34m)\u001b[0m\u001b[0;34m\u001b[0m\u001b[0m\n\u001b[1;32m     15\u001b[0m             \u001b[0;32mbreak\u001b[0m\u001b[0;34m\u001b[0m\u001b[0m\n",
      "\u001b[0;32m~/anaconda3/lib/python3.6/site-packages/pandas/core/generic.py\u001b[0m in \u001b[0;36m_indexer\u001b[0;34m(self)\u001b[0m\n\u001b[1;32m   1803\u001b[0m \u001b[0;34m\u001b[0m\u001b[0m\n\u001b[1;32m   1804\u001b[0m             \u001b[0;32mdef\u001b[0m \u001b[0m_indexer\u001b[0m\u001b[0;34m(\u001b[0m\u001b[0mself\u001b[0m\u001b[0;34m)\u001b[0m\u001b[0;34m:\u001b[0m\u001b[0;34m\u001b[0m\u001b[0m\n\u001b[0;32m-> 1805\u001b[0;31m                 \u001b[0mi\u001b[0m \u001b[0;34m=\u001b[0m \u001b[0mgetattr\u001b[0m\u001b[0;34m(\u001b[0m\u001b[0mself\u001b[0m\u001b[0;34m,\u001b[0m \u001b[0miname\u001b[0m\u001b[0;34m)\u001b[0m\u001b[0;34m\u001b[0m\u001b[0m\n\u001b[0m\u001b[1;32m   1806\u001b[0m                 \u001b[0;32mif\u001b[0m \u001b[0mi\u001b[0m \u001b[0;32mis\u001b[0m \u001b[0;32mNone\u001b[0m\u001b[0;34m:\u001b[0m\u001b[0;34m\u001b[0m\u001b[0m\n\u001b[1;32m   1807\u001b[0m                     \u001b[0mi\u001b[0m \u001b[0;34m=\u001b[0m \u001b[0mindexer\u001b[0m\u001b[0;34m(\u001b[0m\u001b[0mself\u001b[0m\u001b[0;34m,\u001b[0m \u001b[0mname\u001b[0m\u001b[0;34m)\u001b[0m\u001b[0;34m\u001b[0m\u001b[0m\n",
      "\u001b[0;31mKeyboardInterrupt\u001b[0m: "
     ]
    }
   ],
   "source": [
    "import pandas as pd\n",
    "\n",
    "data1 = pd.read_csv('ereying2_label.csv')\n",
    "data2 = pd.read_csv('ereying2.csv')\n",
    "# print(data1.iloc[0,0])\n",
    "# print(data2.iloc[0,0])\n",
    "i ,j = 0, 0\n",
    "\n",
    "# if data2.iloc[1549,0] == data1.iloc[13,0]:\n",
    "#     print(\"done\")\n",
    "for i in range(len(data1)):\n",
    "    for j in range(len(data2)):\n",
    "        if data1.iloc[i,0] == data2.iloc[j,0]:\n",
    "            print(\"done\")\n",
    "            break\n",
    "        j += 1\n",
    "    i += 1\n"
   ]
  },
  {
   "cell_type": "markdown",
   "metadata": {},
   "source": [
    "将预测结果和相关因子数据合并到一个excel文件之中，存储成为‘X_y.xlsx’"
   ]
  },
  {
   "cell_type": "code",
   "execution_count": 44,
   "metadata": {},
   "outputs": [
    {
     "name": "stderr",
     "output_type": "stream",
     "text": [
      "/home/yu/anaconda3/lib/python3.6/site-packages/pandas/util/_decorators.py:118: FutureWarning: The `sheetname` keyword is deprecated, use `sheet_name` instead\n",
      "  return func(*args, **kwargs)\n"
     ]
    }
   ],
   "source": [
    "#-*- coding :utf-8-*-\n",
    "from functools import reduce\n",
    "\n",
    "import pandas as pd\n",
    "\n",
    "ereying='二噁英工控数据（1#炉）.xlsx'#二噁英数据\n",
    "\n",
    "data1=pd.read_excel(ereying,sheetname=u'尾部烟道进口烟气温度')\n",
    "data2=pd.read_excel(ereying,sheetname=u'炉尾部烟道出口烟气温度')\n",
    "data3=pd.read_excel(ereying,sheetname=u'炉膛出口O2浓度1')\n",
    "data4=pd.read_excel(ereying,sheetname=u'炉膛出口O2浓度2')\n",
    "data5=pd.read_excel(ereying,sheetname=u'CO的浓度')\n",
    "data6=pd.read_excel(ereying,sheetname=u'炉膛第一烟道出口烟气温度')\n",
    "data7=pd.read_excel(ereying,sheetname=u'炉膛第一烟道入口烟气温度')\n",
    "data8=pd.read_excel(ereying,sheetname=u'活性炭喷射量')\n",
    "data9=pd.read_excel(ereying,sheetname=u'一次风机实际运行电流')\n",
    "data10=pd.read_excel(ereying,sheetname=u'二次风机实际运行电流')\n",
    "data11=pd.read_excel(ereying,sheetname=u'锅炉蒸汽量')\n",
    "data12=pd.read_excel(ereying,sheetname=u'二噁英排放浓度')\n",
    "\n",
    "\n",
    "dfs=[data1,data2,data3,data4,data5,data6,data7,data8,data9,data10,data11,data12]\n",
    "df_final=reduce(lambda left,right:pd.merge(left,right,on='时间',how='outer'), dfs)\n",
    "names = [u'时间',u'尾部烟道进口烟气温度',u'炉尾部烟道出口烟气温度',u'炉膛出口O2浓度1',u'炉膛出口O2浓度2',u'CO的浓度',u'炉膛第一烟道出口烟气温度',\n",
    "         u'炉膛第一烟道入口烟气温度',u'活性炭喷射量',u'一次风机实际运行电流',u'二次风机实际运行电流',u'锅炉蒸汽量',u'二噁英排放浓度']\n",
    "df_final.columns = names\n",
    "df_final.to_excel('X_y.xlsx')\n"
   ]
  },
  {
   "cell_type": "markdown",
   "metadata": {},
   "source": [
    "将数据相加 一个小时得到一个预测值"
   ]
  },
  {
   "cell_type": "code",
   "execution_count": 45,
   "metadata": {},
   "outputs": [],
   "source": [
    "import pandas as pd\n",
    "ereying=pd.DataFrame(pd.read_excel('X_y.xlsx'))\n",
    "ereying=ereying.set_index(u'时间')\n",
    "\n",
    "ereying2=ereying.resample('H').sum()\n",
    "\n",
    "ereying2.to_csv('X_y.csv',encoding='utf-8')"
   ]
  },
  {
   "cell_type": "markdown",
   "metadata": {},
   "source": [
    "从12-04之后才出现二噁英的浓度，删除之前的数据"
   ]
  },
  {
   "cell_type": "code",
   "execution_count": 176,
   "metadata": {},
   "outputs": [],
   "source": [
    "import pandas as pd\n",
    "\n",
    "data = pd.DataFrame(pd.read_csv('X_y.csv'))\n",
    "data.iloc[1549:, :].to_csv('X_y_12-04.csv', index=False)"
   ]
  },
  {
   "cell_type": "markdown",
   "metadata": {},
   "source": [
    "将索引值重新排列"
   ]
  },
  {
   "cell_type": "code",
   "execution_count": 178,
   "metadata": {
    "scrolled": true
   },
   "outputs": [],
   "source": [
    "# import pandas as pd\n",
    "# #删除第一列\n",
    "# data = pd.DataFrame(pd.read_csv('X_y_12-04.csv'))\n",
    "# data.iloc[:, 1:14].to_csv('X_y_12-04_index.csv',index=False)\n"
   ]
  },
  {
   "cell_type": "markdown",
   "metadata": {},
   "source": [
    "剔除里面二噁英浓度为0的行以及删除所有影响因子都为0的行"
   ]
  },
  {
   "cell_type": "code",
   "execution_count": 1,
   "metadata": {
    "scrolled": true
   },
   "outputs": [
    {
     "name": "stdout",
     "output_type": "stream",
     "text": [
      "(6443, 13)\n"
     ]
    }
   ],
   "source": [
    "import pandas as pd\n",
    "data = pd.DataFrame(pd.read_csv('X_y_12-04.csv')\n",
    "                   )\n",
    "# print(data.shape)\n",
    "# l = len(data)\n",
    "# print(l)\n",
    "# print(data.iloc[l-1, 13])\n",
    "\n",
    "# for i in range(l):\n",
    "#     if data.iloc[i, 13] == 0.0:\n",
    "#         data.drop(data.index[[i]],inplace=True)\n",
    "#     i += 1\n",
    "# print(new_data.shape)\n",
    "# print(data[:, 13])\n",
    "\n",
    "# print(data[:, 1])\n",
    "# new_data = data[data[:,-1]!=0]\n",
    "data[data[u'二噁英排放浓度']!=0].to_csv('X_y_nozero.csv', index=False)\n",
    "print(data.shape)\n",
    "# data.to_csv('X_y_nozero.csv')\n",
    "data = pd.DataFrame(pd.read_csv('X_y_nozero.csv')\n",
    "                   )\n",
    "data[data[u'锅炉蒸汽量']!=0].to_csv('X_y_nozero1.csv', index=False)\n",
    "\n",
    "data[data[u'尾部烟道进口烟气温度']!=0].to_csv('X_y_nozero2.csv', index=False)"
   ]
  },
  {
   "cell_type": "markdown",
   "metadata": {},
   "source": [
    "训练数据和标签进行分离"
   ]
  },
  {
   "cell_type": "code",
   "execution_count": 2,
   "metadata": {},
   "outputs": [],
   "source": [
    "import pandas as pd\n",
    "\n",
    "data = pd.DataFrame(pd.read_csv('X_y_nozero2.csv'))\n",
    "\n",
    "X_train = data.iloc[:, 1:12]\n",
    "\n",
    "X_train.to_csv('X_train.csv', index=False)\n",
    "Y_label = data.iloc[:,-1]\n",
    "names = [u'二噁英排放浓度']\n",
    "Y_label.columns = 'times'\n",
    "Y_label.to_csv('Y_label.csv', index=False, header=u'二噁英排放浓度')"
   ]
  },
  {
   "cell_type": "code",
   "execution_count": 28,
   "metadata": {},
   "outputs": [
    {
     "name": "stdout",
     "output_type": "stream",
     "text": [
      "输入数据类型： (4985, 11)\n",
      "标签类型： (4985,)\n",
      "[   0.46327139    0.70290351 -404.26307285]\n"
     ]
    },
    {
     "data": {
      "image/png": "[encoded data removed]",
      "text/plain": [
       "<matplotlib.figure.Figure at 0x7fc58552e780>"
      ]
     },
     "metadata": {},
     "output_type": "display_data"
    },
    {
     "name": "stdout",
     "output_type": "stream",
     "text": [
      "saving model\n",
      "训练r2_score结果 0.6483000828089025\n"
     ]
    }
   ],
   "source": [
    "import pandas as pd\n",
    "#import numpy as np\n",
    "from sklearn import metrics\n",
    "import pickle\n",
    "from xgboost.sklearn import XGBRegressor\n",
    "#from sklearn.preprocessing import StandardScaler\n",
    "# from clean_data import prep_water_data,normalize_water_data,normalize_data,delete_null_date\n",
    "from sklearn.model_selection import train_test_split\n",
    "from sklearn.model_selection import GridSearchCV, cross_val_score\n",
    "from sklearn.model_selection import TimeSeriesSplit\n",
    "\n",
    "\n",
    "def GDBTTrain(X, y):\n",
    "\ttrain_x, test_x, train_y, test_y = train_test_split(X, y, test_size=0.2, random_state=0)  ##test_size测试集合所占比例\n",
    "\ttest_preds = pd.DataFrame({\"label\": test_y})\n",
    "\tclf = XGBRegressor(\n",
    "\t\tlearning_rate=0.01,  # 默认0.3\n",
    "\t\tn_estimators=500,  # 树的个数\n",
    "\t\tmax_depth=16,\n",
    "\t\t# min_child_weight=1,\n",
    "\t\t# gamma=0,\n",
    "\t\t# subsample=0.8,\n",
    "\t\t# colsample_bytree=0.8,\n",
    "\t\t# scale_pos_weight=1\n",
    "\t)\n",
    "\tclf.fit(train_x, train_y)\n",
    "\ttest_preds['y_pred'] = clf.predict(test_x)\n",
    "\tstdm = metrics.r2_score(test_preds['label'], test_preds['y_pred'])\n",
    "\ta = cross_val_score(clf, X, y, cv=3)\n",
    "\tprint(a)\n",
    "\timport matplotlib.pyplot as plt  # 画出预测结果图\n",
    "\tp = test_preds[['label', 'y_pred']].plot(subplots=True, style=['b-o', 'r-*'])\n",
    "\tplt.plot(test_preds['label'], c='blue')\n",
    "\tplt.plot(test_preds['y_pred'], c='red')\n",
    "\tplt.show()\n",
    "\t\n",
    "\treturn stdm, clf\n",
    "\n",
    "\n",
    "def GDBTest(X, y, clf):\n",
    "\ttest_preds = pd.DataFrame({\"label\": y})\n",
    "\ttest_preds['y_pred'] = clf.predict(X)\n",
    "\tprint(len(test_preds))\n",
    "\t# # 对预测的结果取整\n",
    "\t# for i in range(16):\n",
    "\t# \ttest_preds['y_pred'][i] = round(test_preds['y_pred'][i])\n",
    "\t# \ti += 1\n",
    "\t#\n",
    "\terror = 0.\n",
    "\t# print(test_preds)\n",
    "\tfor i in range(16):\n",
    "\t\ta = abs(test_preds['y_pred'][i] - test_preds['label'][i])\n",
    "\t\terror += a / test_preds['label'][i]\n",
    "\t\ti += 1\n",
    "\tmean_error = error / 16\n",
    "\tprint(\"平均误差为: %s\" % mean_error)\n",
    "\tprint(\"均方误差： \", metrics.mean_squared_error(\n",
    "\t\ttest_preds['label'], test_preds['y_pred']))\n",
    "\tstdm = metrics.r2_score(test_preds['label'], test_preds['y_pred'])\n",
    "\timport matplotlib.pyplot as plt  # 画出预测结果图\n",
    "\tp = test_preds[['label', 'y_pred']].plot(subplots=True, style=['b-o', 'r-*'])\n",
    "\tplt.plot(test_preds['label'], c='blue')\n",
    "\tplt.plot(test_preds['y_pred'], c='red')\n",
    "\tplt.show()\n",
    "\treturn stdm\n",
    "\n",
    "\n",
    "def XGTSearch(X, y):\n",
    "\tprint(\"Parameter optimization\")\n",
    "\tn_estimators = [50, 100, 200, 400, 500, 600]\n",
    "\tmax_depth = [2, 3, 4, 6, 8, 16]\n",
    "\tlearning_rate = [0.0001, 0.001, 0.01, 0.1, 0.2, 0.3]\n",
    "\tparam_grid = dict(max_depth=max_depth, n_estimators=n_estimators, learning_rate=learning_rate)\n",
    "\txgb_model = XGBRegressor()\n",
    "\tkfold = TimeSeriesSplit(n_splits=2).get_n_splits([X, y])\n",
    "\tfit_params = {\"eval_metric\": \"rmse\"}\n",
    "\tgrid_search = GridSearchCV(xgb_model, param_grid, verbose=1, fit_params=fit_params, cv=kfold)\n",
    "\tgrid_result = grid_search.fit(X, y)\n",
    "\t# summarize results\n",
    "\tprint(\"Best: %f using %s\" % (grid_result.best_score_, grid_result.best_params_))\n",
    "\tmeans = grid_result.cv_results_['mean_test_score']\n",
    "\tstds = grid_result.cv_results_['std_test_score']\n",
    "\tparams = grid_result.cv_results_['params']\n",
    "\tfor mean, stdev, param in zip(means, stds, params):\n",
    "\t\tprint(\"%f (%f) with: %r\" % (mean, stdev, param))\n",
    "\t\n",
    "\treturn means, grid_result\n",
    "\n",
    "\n",
    "if __name__ == \"__main__\":\n",
    "\tX_data_train = pd.read_csv('X_train.csv')\n",
    "\tY_data_train = pd.read_csv('Y_label.csv')\n",
    "\tY_data_train = Y_data_train[u'二噁英排放浓度']\n",
    "\tout = 'frazee'\n",
    "\tprint(\"输入数据类型：\", X_data_train.shape)\n",
    "\tprint(\"标签类型：\", Y_data_train.shape)\n",
    "\tX = X_data_train.as_matrix()\n",
    "\ty = Y_data_train.as_matrix()\n",
    "\tstdm, clf = GDBTTrain(X, y)\n",
    "\tprint('saving model')\n",
    "\tpath = './model/' + out + '_xgb.pkl'\n",
    "\twith open(path, \"wb\") as f:\n",
    "\t\tpickle.dump(clf, f)\n",
    "\tprint(\"训练r2_score结果\", stdm)\n",
    "\t#a,b = XGTSearch(X, y)\n",
    "# \tX_data_test = pd.read_csv('X_16_feature.csv', encoding=\"gb18030\")\n",
    "# \tY_data_test = pd.read_csv('Y_16.csv', encoding=\"gb18030\")\n",
    "# \tY_data_test = Y_data_test['times']\n",
    "\t\n",
    "# \tX = X_data_test.as_matrix()\n",
    "# \ty = Y_data_test.as_matrix()\n",
    "# \tpath = './model/' + out + '_xgb.pkl'\n",
    "# \twith open(path, 'rb') as f:\n",
    "# \t\tmodel = pickle.load(f)\n",
    "# \t\tstdm = GDBTest(X, y, model)\n",
    "# \t\tprint(\"测试r2_score结果：\", stdm)\n"
   ]
  },
  {
   "cell_type": "markdown",
   "metadata": {},
   "source": [
    "分开训练集和测试集"
   ]
  },
  {
   "cell_type": "code",
   "execution_count": 5,
   "metadata": {},
   "outputs": [
    {
     "name": "stdout",
     "output_type": "stream",
     "text": [
      "4871\n",
      "4871\n"
     ]
    }
   ],
   "source": [
    "import pandas as pd\n",
    "#训练集和验证集分离\n",
    "data_train = pd.DataFrame(pd.read_csv('X_train.csv'))\n",
    "print(len(data))\n",
    "X_train_split = data_train.iloc[0:400, :]\n",
    "X_val_split = data_train.iloc[400:4871, :]\n",
    "\n",
    "X_train_split.to_csv('X_train_split.csv', index=False)\n",
    "X_val_split.to_csv('X_val_split.csv', index=False)\n",
    "\n",
    "#标签分离\n",
    "data_label = pd.DataFrame(pd.read_csv('Y_label.csv'))\n",
    "print(len(data_label))\n",
    "Y_train_split = data_label.iloc[0:400, :]\n",
    "Y_val_split = data_label.iloc[400:4871, :]\n",
    "\n",
    "Y_train_split.to_csv('Y_train_split.csv')\n",
    "Y_val_split.to_csv('Y_val_split.csv')\n"
   ]
  }
 ],
 "metadata": {
  "kernelspec": {
   "display_name": "Python 3",
   "language": "python",
   "name": "python3"
  },
  "language_info": {
   "codemirror_mode": {
    "name": "ipython",
    "version": 3
   },
   "file_extension": ".py",
   "mimetype": "text/x-python",
   "name": "python",
   "nbconvert_exporter": "python",
   "pygments_lexer": "ipython3",
   "version": "3.6.4"
  },
  "toc": {
   "nav_menu": {},
   "number_sections": true,
   "sideBar": true,
   "skip_h1_title": false,
   "title_cell": "Table of Contents",
   "title_sidebar": "Contents",
   "toc_cell": false,
   "toc_position": {},
   "toc_section_display": true,
   "toc_window_display": false
  }
 },
 "nbformat": 4,
 "nbformat_minor": 2
}

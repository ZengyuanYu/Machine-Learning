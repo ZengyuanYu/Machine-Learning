{
 "cells": [
  {
   "cell_type": "code",
   "execution_count": 1,
   "metadata": {},
   "outputs": [
    {
     "name": "stdout",
     "output_type": "stream",
     "text": [
      "<class 'pandas.core.frame.DataFrame'>\n",
      "RangeIndex: 66 entries, 0 to 65\n",
      "Columns: 209 entries, year to key207\n",
      "dtypes: float64(208), int64(1)\n",
      "memory usage: 107.8 KB\n"
     ]
    }
   ],
   "source": [
    "import pandas as pd\n",
    "\n",
    "train = pd.read_csv('hgt.csv')\n",
    "train.info()"
   ]
  },
  {
   "cell_type": "code",
   "execution_count": 2,
   "metadata": {},
   "outputs": [
    {
     "name": "stdout",
     "output_type": "stream",
     "text": [
      "   label\n",
      "0      1\n",
      "1      2\n",
      "2      3\n",
      "   0\n",
      "0  1\n",
      "1  2\n",
      "2  3\n"
     ]
    }
   ],
   "source": [
    "import pandas as pd\n",
    "\n",
    "y = [1,2,3]\n",
    "y_pre1 = pd.DataFrame(y)\n",
    "y_pre = pd.DataFrame({\"label\": y})\n",
    "print(y_pre)\n",
    "print(y_pre1)"
   ]
  },
  {
   "cell_type": "code",
   "execution_count": 3,
   "metadata": {},
   "outputs": [
    {
     "name": "stdout",
     "output_type": "stream",
     "text": [
      "{'eval_metric': 'rmse'}\n"
     ]
    }
   ],
   "source": [
    "fit_params = {\"eval_metric\": \"rmse\"}\n",
    "print(fit_params)"
   ]
  },
  {
   "cell_type": "code",
   "execution_count": 1,
   "metadata": {
    "scrolled": false
   },
   "outputs": [
    {
     "name": "stdout",
     "output_type": "stream",
     "text": [
      "输入数据类型： (66, 498)\n",
      "标签类型： (66,)\n"
     ]
    },
    {
     "data": {
      "text/plain": [
       "<matplotlib.figure.Figure at 0x7f436edf8a20>"
      ]
     },
     "metadata": {},
     "output_type": "display_data"
    },
    {
     "name": "stdout",
     "output_type": "stream",
     "text": [
      "saving model\n",
      "训练结果 0.2753044555358589\n",
      "测试结果： 0.9999999435482719\n"
     ]
    }
   ],
   "source": [
    "import pandas as pd\n",
    "import numpy as np\n",
    "from sklearn import metrics\n",
    "import pickle\n",
    "from xgboost.sklearn import XGBRegressor\n",
    "from sklearn.preprocessing import StandardScaler\n",
    "#from clean_data import prep_water_data,normalize_water_data,normalize_data,delete_null_date\n",
    "from sklearn.model_selection import KFold, train_test_split, GridSearchCV\n",
    "from sklearn.model_selection import TimeSeriesSplit\n",
    "\n",
    "\n",
    "def GDBTTrain(X, y):\n",
    "    train_x, test_x, train_y, test_y = train_test_split(X, y, test_size=0.3, random_state=0)  ##test_size测试集合所占比例\n",
    "    test_preds = pd.DataFrame({\"label\": test_y})\n",
    "    clf = XGBRegressor(\n",
    "        learning_rate=0.1,  # 默认0.3\n",
    "        n_estimators=400,  # 树的个数\n",
    "        max_depth=8,\n",
    "    )\n",
    "    clf.fit(train_x, train_y)\n",
    "    test_preds['y_pred'] = clf.predict(test_x)\n",
    "    stdm = metrics.r2_score(test_preds['label'], test_preds['y_pred'])\n",
    "\n",
    "    import matplotlib.pyplot as plt  # 画出预测结果图\n",
    "    p = test_preds[['label', 'y_pred']].plot(subplots=True, style=['b-o', 'r-*'])\n",
    "    plt.plot(test_preds['label'], c = 'blue')\n",
    "    plt.plot(test_preds['y_pred'], c ='red')\n",
    "    plt.show()\n",
    "\n",
    "    return stdm, clf\n",
    "\n",
    "def GDBTest(X, y, clf):\n",
    "    train_x, test_x, train_y, test_y = train_test_split(X, y, test_size=0.5, random_state=0)  ##test_size测试集合所占比例\n",
    "    test_preds = pd.DataFrame({\"label\": test_y})\n",
    "    clf.fit(test_x, test_y)\n",
    "    test_preds['y_pred'] = clf.predict(test_x)\n",
    "    stdm = metrics.r2_score(test_preds['label'], test_preds['y_pred'])\n",
    "\n",
    "    return stdm\n",
    "\n",
    "def XGTSearch(X, y):\n",
    "    print(\"Parameter optimization\")\n",
    "    n_estimators = [50, 100, 200, 400]\n",
    "    max_depth = [2, 4, 6, 8]\n",
    "    learning_rate = [0.0001, 0.001, 0.01, 0.1, 0.2, 0.3]\n",
    "    param_grid = dict(max_depth=max_depth, n_estimators=n_estimators, learning_rate=learning_rate)\n",
    "    xgb_model = XGBRegressor()\n",
    "    kfold = TimeSeriesSplit(n_splits=2).get_n_splits([X,y])\n",
    "    fit_params = {\"eval_metric\": \"rmse\"}\n",
    "    grid_search = GridSearchCV(xgb_model, param_grid, verbose=1, fit_params=fit_params, cv=kfold)\n",
    "    grid_result = grid_search.fit(X, y)\n",
    "    # summarize results\n",
    "    print(\"Best: %f using %s\" % (grid_result.best_score_, grid_result.best_params_))\n",
    "    means = grid_result.cv_results_['mean_test_score']\n",
    "    stds = grid_result.cv_results_['std_test_score']\n",
    "    params = grid_result.cv_results_['params']\n",
    "    for mean, stdev, param in zip(means, stds, params):\n",
    "        print(\"%f (%f) with: %r\" % (mean, stdev, param))\n",
    "\n",
    "    return means, grid_result\n",
    "\n",
    "#data = pd.read_csv('X_U4.csv')\n",
    "\n",
    "Y_list_1 = []\n",
    "if __name__ == \"__main__\":\n",
    "    X_data = pd.read_csv('X_noyear.csv', encoding=\"gb18030\")\n",
    "    Y_data = pd.read_csv('Y_noyear.csv', encoding=\"gb18030\")\n",
    "    Y_data = Y_data['times']\n",
    "    out = 'frazee'\n",
    "    print(\"输入数据类型：\" ,X_data.shape)\n",
    "    print(\"标签类型：\" ,Y_data.shape)\n",
    "    X = X_data.as_matrix()\n",
    "    y = Y_data.as_matrix()\n",
    "    stdm, clf = GDBTTrain(X, y)\n",
    "    print('saving model')\n",
    "    path = './model/' + out + '_xgb.pkl'\n",
    "    with open(path, \"wb\") as f:\n",
    "        pickle.dump(clf, f)\n",
    "    print(\"训练结果\",stdm)\n",
    "    path = './model/' + out + '_xgb.pkl'\n",
    "    with open(path, 'rb') as f:\n",
    "        model = pickle.load(f)\n",
    "        stdm = GDBTest(X, y, model)\n",
    "        print(\"测试结果：\",stdm)\n"
   ]
  }
 ],
 "metadata": {
  "kernelspec": {
   "display_name": "Python 3",
   "language": "python",
   "name": "python3"
  },
  "language_info": {
   "codemirror_mode": {
    "name": "ipython",
    "version": 3
   },
   "file_extension": ".py",
   "mimetype": "text/x-python",
   "name": "python",
   "nbconvert_exporter": "python",
   "pygments_lexer": "ipython3",
   "version": "3.6.4"
  },
  "toc": {
   "nav_menu": {},
   "number_sections": true,
   "sideBar": true,
   "skip_h1_title": false,
   "title_cell": "Table of Contents",
   "title_sidebar": "Contents",
   "toc_cell": false,
   "toc_position": {},
   "toc_section_display": true,
   "toc_window_display": false
  }
 },
 "nbformat": 4,
 "nbformat_minor": 2
}

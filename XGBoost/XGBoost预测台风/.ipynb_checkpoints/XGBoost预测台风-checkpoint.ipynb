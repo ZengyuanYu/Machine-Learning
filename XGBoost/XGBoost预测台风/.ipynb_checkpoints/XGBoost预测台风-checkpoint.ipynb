{
 "cells": [
  {
   "cell_type": "code",
   "execution_count": 1,
   "metadata": {},
   "outputs": [
    {
     "ename": "FileNotFoundError",
     "evalue": "File b'hgt.csv' does not exist",
     "output_type": "error",
     "traceback": [
      "\u001b[0;31m---------------------------------------------------------------------------\u001b[0m",
      "\u001b[0;31mFileNotFoundError\u001b[0m                         Traceback (most recent call last)",
      "\u001b[0;32m<ipython-input-1-2686c2495850>\u001b[0m in \u001b[0;36m<module>\u001b[0;34m()\u001b[0m\n\u001b[1;32m      1\u001b[0m \u001b[0;32mimport\u001b[0m \u001b[0mpandas\u001b[0m \u001b[0;32mas\u001b[0m \u001b[0mpd\u001b[0m\u001b[0;34m\u001b[0m\u001b[0m\n\u001b[1;32m      2\u001b[0m \u001b[0;34m\u001b[0m\u001b[0m\n\u001b[0;32m----> 3\u001b[0;31m \u001b[0mtrain\u001b[0m \u001b[0;34m=\u001b[0m \u001b[0mpd\u001b[0m\u001b[0;34m.\u001b[0m\u001b[0mread_csv\u001b[0m\u001b[0;34m(\u001b[0m\u001b[0;34m'hgt.csv'\u001b[0m\u001b[0;34m)\u001b[0m\u001b[0;34m\u001b[0m\u001b[0m\n\u001b[0m\u001b[1;32m      4\u001b[0m \u001b[0mtrain\u001b[0m\u001b[0;34m.\u001b[0m\u001b[0minfo\u001b[0m\u001b[0;34m(\u001b[0m\u001b[0;34m)\u001b[0m\u001b[0;34m\u001b[0m\u001b[0m\n",
      "\u001b[0;32m~/anaconda3/lib/python3.6/site-packages/pandas/io/parsers.py\u001b[0m in \u001b[0;36mparser_f\u001b[0;34m(filepath_or_buffer, sep, delimiter, header, names, index_col, usecols, squeeze, prefix, mangle_dupe_cols, dtype, engine, converters, true_values, false_values, skipinitialspace, skiprows, nrows, na_values, keep_default_na, na_filter, verbose, skip_blank_lines, parse_dates, infer_datetime_format, keep_date_col, date_parser, dayfirst, iterator, chunksize, compression, thousands, decimal, lineterminator, quotechar, quoting, escapechar, comment, encoding, dialect, tupleize_cols, error_bad_lines, warn_bad_lines, skipfooter, skip_footer, doublequote, delim_whitespace, as_recarray, compact_ints, use_unsigned, low_memory, buffer_lines, memory_map, float_precision)\u001b[0m\n\u001b[1;32m    707\u001b[0m                     skip_blank_lines=skip_blank_lines)\n\u001b[1;32m    708\u001b[0m \u001b[0;34m\u001b[0m\u001b[0m\n\u001b[0;32m--> 709\u001b[0;31m         \u001b[0;32mreturn\u001b[0m \u001b[0m_read\u001b[0m\u001b[0;34m(\u001b[0m\u001b[0mfilepath_or_buffer\u001b[0m\u001b[0;34m,\u001b[0m \u001b[0mkwds\u001b[0m\u001b[0;34m)\u001b[0m\u001b[0;34m\u001b[0m\u001b[0m\n\u001b[0m\u001b[1;32m    710\u001b[0m \u001b[0;34m\u001b[0m\u001b[0m\n\u001b[1;32m    711\u001b[0m     \u001b[0mparser_f\u001b[0m\u001b[0;34m.\u001b[0m\u001b[0m__name__\u001b[0m \u001b[0;34m=\u001b[0m \u001b[0mname\u001b[0m\u001b[0;34m\u001b[0m\u001b[0m\n",
      "\u001b[0;32m~/anaconda3/lib/python3.6/site-packages/pandas/io/parsers.py\u001b[0m in \u001b[0;36m_read\u001b[0;34m(filepath_or_buffer, kwds)\u001b[0m\n\u001b[1;32m    447\u001b[0m \u001b[0;34m\u001b[0m\u001b[0m\n\u001b[1;32m    448\u001b[0m     \u001b[0;31m# Create the parser.\u001b[0m\u001b[0;34m\u001b[0m\u001b[0;34m\u001b[0m\u001b[0m\n\u001b[0;32m--> 449\u001b[0;31m     \u001b[0mparser\u001b[0m \u001b[0;34m=\u001b[0m \u001b[0mTextFileReader\u001b[0m\u001b[0;34m(\u001b[0m\u001b[0mfilepath_or_buffer\u001b[0m\u001b[0;34m,\u001b[0m \u001b[0;34m**\u001b[0m\u001b[0mkwds\u001b[0m\u001b[0;34m)\u001b[0m\u001b[0;34m\u001b[0m\u001b[0m\n\u001b[0m\u001b[1;32m    450\u001b[0m \u001b[0;34m\u001b[0m\u001b[0m\n\u001b[1;32m    451\u001b[0m     \u001b[0;32mif\u001b[0m \u001b[0mchunksize\u001b[0m \u001b[0;32mor\u001b[0m \u001b[0miterator\u001b[0m\u001b[0;34m:\u001b[0m\u001b[0;34m\u001b[0m\u001b[0m\n",
      "\u001b[0;32m~/anaconda3/lib/python3.6/site-packages/pandas/io/parsers.py\u001b[0m in \u001b[0;36m__init__\u001b[0;34m(self, f, engine, **kwds)\u001b[0m\n\u001b[1;32m    816\u001b[0m             \u001b[0mself\u001b[0m\u001b[0;34m.\u001b[0m\u001b[0moptions\u001b[0m\u001b[0;34m[\u001b[0m\u001b[0;34m'has_index_names'\u001b[0m\u001b[0;34m]\u001b[0m \u001b[0;34m=\u001b[0m \u001b[0mkwds\u001b[0m\u001b[0;34m[\u001b[0m\u001b[0;34m'has_index_names'\u001b[0m\u001b[0;34m]\u001b[0m\u001b[0;34m\u001b[0m\u001b[0m\n\u001b[1;32m    817\u001b[0m \u001b[0;34m\u001b[0m\u001b[0m\n\u001b[0;32m--> 818\u001b[0;31m         \u001b[0mself\u001b[0m\u001b[0;34m.\u001b[0m\u001b[0m_make_engine\u001b[0m\u001b[0;34m(\u001b[0m\u001b[0mself\u001b[0m\u001b[0;34m.\u001b[0m\u001b[0mengine\u001b[0m\u001b[0;34m)\u001b[0m\u001b[0;34m\u001b[0m\u001b[0m\n\u001b[0m\u001b[1;32m    819\u001b[0m \u001b[0;34m\u001b[0m\u001b[0m\n\u001b[1;32m    820\u001b[0m     \u001b[0;32mdef\u001b[0m \u001b[0mclose\u001b[0m\u001b[0;34m(\u001b[0m\u001b[0mself\u001b[0m\u001b[0;34m)\u001b[0m\u001b[0;34m:\u001b[0m\u001b[0;34m\u001b[0m\u001b[0m\n",
      "\u001b[0;32m~/anaconda3/lib/python3.6/site-packages/pandas/io/parsers.py\u001b[0m in \u001b[0;36m_make_engine\u001b[0;34m(self, engine)\u001b[0m\n\u001b[1;32m   1047\u001b[0m     \u001b[0;32mdef\u001b[0m \u001b[0m_make_engine\u001b[0m\u001b[0;34m(\u001b[0m\u001b[0mself\u001b[0m\u001b[0;34m,\u001b[0m \u001b[0mengine\u001b[0m\u001b[0;34m=\u001b[0m\u001b[0;34m'c'\u001b[0m\u001b[0;34m)\u001b[0m\u001b[0;34m:\u001b[0m\u001b[0;34m\u001b[0m\u001b[0m\n\u001b[1;32m   1048\u001b[0m         \u001b[0;32mif\u001b[0m \u001b[0mengine\u001b[0m \u001b[0;34m==\u001b[0m \u001b[0;34m'c'\u001b[0m\u001b[0;34m:\u001b[0m\u001b[0;34m\u001b[0m\u001b[0m\n\u001b[0;32m-> 1049\u001b[0;31m             \u001b[0mself\u001b[0m\u001b[0;34m.\u001b[0m\u001b[0m_engine\u001b[0m \u001b[0;34m=\u001b[0m \u001b[0mCParserWrapper\u001b[0m\u001b[0;34m(\u001b[0m\u001b[0mself\u001b[0m\u001b[0;34m.\u001b[0m\u001b[0mf\u001b[0m\u001b[0;34m,\u001b[0m \u001b[0;34m**\u001b[0m\u001b[0mself\u001b[0m\u001b[0;34m.\u001b[0m\u001b[0moptions\u001b[0m\u001b[0;34m)\u001b[0m\u001b[0;34m\u001b[0m\u001b[0m\n\u001b[0m\u001b[1;32m   1050\u001b[0m         \u001b[0;32melse\u001b[0m\u001b[0;34m:\u001b[0m\u001b[0;34m\u001b[0m\u001b[0m\n\u001b[1;32m   1051\u001b[0m             \u001b[0;32mif\u001b[0m \u001b[0mengine\u001b[0m \u001b[0;34m==\u001b[0m \u001b[0;34m'python'\u001b[0m\u001b[0;34m:\u001b[0m\u001b[0;34m\u001b[0m\u001b[0m\n",
      "\u001b[0;32m~/anaconda3/lib/python3.6/site-packages/pandas/io/parsers.py\u001b[0m in \u001b[0;36m__init__\u001b[0;34m(self, src, **kwds)\u001b[0m\n\u001b[1;32m   1693\u001b[0m         \u001b[0mkwds\u001b[0m\u001b[0;34m[\u001b[0m\u001b[0;34m'allow_leading_cols'\u001b[0m\u001b[0;34m]\u001b[0m \u001b[0;34m=\u001b[0m \u001b[0mself\u001b[0m\u001b[0;34m.\u001b[0m\u001b[0mindex_col\u001b[0m \u001b[0;32mis\u001b[0m \u001b[0;32mnot\u001b[0m \u001b[0;32mFalse\u001b[0m\u001b[0;34m\u001b[0m\u001b[0m\n\u001b[1;32m   1694\u001b[0m \u001b[0;34m\u001b[0m\u001b[0m\n\u001b[0;32m-> 1695\u001b[0;31m         \u001b[0mself\u001b[0m\u001b[0;34m.\u001b[0m\u001b[0m_reader\u001b[0m \u001b[0;34m=\u001b[0m \u001b[0mparsers\u001b[0m\u001b[0;34m.\u001b[0m\u001b[0mTextReader\u001b[0m\u001b[0;34m(\u001b[0m\u001b[0msrc\u001b[0m\u001b[0;34m,\u001b[0m \u001b[0;34m**\u001b[0m\u001b[0mkwds\u001b[0m\u001b[0;34m)\u001b[0m\u001b[0;34m\u001b[0m\u001b[0m\n\u001b[0m\u001b[1;32m   1696\u001b[0m \u001b[0;34m\u001b[0m\u001b[0m\n\u001b[1;32m   1697\u001b[0m         \u001b[0;31m# XXX\u001b[0m\u001b[0;34m\u001b[0m\u001b[0;34m\u001b[0m\u001b[0m\n",
      "\u001b[0;32mpandas/_libs/parsers.pyx\u001b[0m in \u001b[0;36mpandas._libs.parsers.TextReader.__cinit__\u001b[0;34m()\u001b[0m\n",
      "\u001b[0;32mpandas/_libs/parsers.pyx\u001b[0m in \u001b[0;36mpandas._libs.parsers.TextReader._setup_parser_source\u001b[0;34m()\u001b[0m\n",
      "\u001b[0;31mFileNotFoundError\u001b[0m: File b'hgt.csv' does not exist"
     ]
    }
   ],
   "source": [
    "import pandas as pd\n",
    "\n",
    "train = pd.read_csv('hgt.csv')\n",
    "train.info()"
   ]
  },
  {
   "cell_type": "code",
   "execution_count": null,
   "metadata": {},
   "outputs": [],
   "source": [
    "import pandas as pd\n",
    "\n",
    "y = [1,2,3]\n",
    "y_pre1 = pd.DataFrame(y)\n",
    "y_pre = pd.DataFrame({\"label\": y})\n",
    "print(y_pre)\n",
    "print(y_pre1)"
   ]
  },
  {
   "cell_type": "code",
   "execution_count": null,
   "metadata": {},
   "outputs": [],
   "source": [
    "fit_params = {\"eval_metric\": \"rmse\"}\n",
    "print(fit_params)"
   ]
  },
  {
   "cell_type": "markdown",
   "metadata": {},
   "source": [
    "**不同参数下XGBoost预测台风的准确度**\n",
    "\n",
    "No.|learning_rate|n_estimators|max_depth|train_score|test_score\n",
    "-|:-:|:-:|:-:|:-:|-:\n",
    "1|0.2|500|16|0.387|0.036\n",
    "2|0.2|500|8|0.387|0.036\n",
    "3|0.2|500|3|0.151|0.192\n",
    "4|0.2|400|16|0.387|0.036\n",
    "5|0.2|400|8|0.387|0.036\n",
    "6|0.2|400|3|0.151|0.192\n",
    "7|0.1|500|16|0.440|0.301\n",
    "8|0.1|500|8|0.440|0.301\n",
    "9|0.1|500|3|0.470|0.426\n",
    "10|0.1|400|16|0.440|0.301\n",
    "11|0.1|400|8|0.440|0.301\n",
    "12|0.1|400|3|0.470|0.426\n"
   ]
  },
  {
   "cell_type": "code",
   "execution_count": null,
   "metadata": {
    "scrolled": false
   },
   "outputs": [
    {
     "name": "stdout",
     "output_type": "stream",
     "text": [
      "输入数据类型： (50, 498)\n",
      "标签类型： (50,)\n"
     ]
    },
    {
     "data": {
      "image/png": "[encoded data removed]",
      "text/plain": [
       "<matplotlib.figure.Figure at 0x7f70494f1828>"
      ]
     },
     "metadata": {},
     "output_type": "display_data"
    },
    {
     "name": "stdout",
     "output_type": "stream",
     "text": [
      "saving model\n",
      "训练结果 0.47070193524748993\n",
      "Parameter optimization\n",
      "Fitting 2 folds for each of 150 candidates, totalling 300 fits\n"
     ]
    },
    {
     "name": "stderr",
     "output_type": "stream",
     "text": [
      "/home/yu/anaconda3/lib/python3.6/site-packages/sklearn/model_selection/_search.py:584: DeprecationWarning: \"fit_params\" as a constructor argument was deprecated in version 0.19 and will be removed in version 0.21. Pass fit parameters to the \"fit\" method instead.\n",
      "  '\"fit\" method instead.', DeprecationWarning)\n"
     ]
    }
   ],
   "source": [
    "import pandas as pd\n",
    "import numpy as np\n",
    "from sklearn import metrics\n",
    "import pickle\n",
    "from xgboost.sklearn import XGBRegressor\n",
    "from sklearn.preprocessing import StandardScaler\n",
    "# from clean_data import prep_water_data,normalize_water_data,normalize_data,delete_null_date\n",
    "from sklearn.model_selection import KFold, train_test_split, GridSearchCV\n",
    "from sklearn.model_selection import TimeSeriesSplit\n",
    "\n",
    "\n",
    "def GDBTTrain(X, y):\n",
    "\ttrain_x, test_x, train_y, test_y = train_test_split(X, y, test_size=0.2, random_state=0)  ##test_size测试集合所占比例\n",
    "\ttest_preds = pd.DataFrame({\"label\": test_y})\n",
    "\tclf = XGBRegressor(\n",
    "\t\tlearning_rate=0.1,  # 默认0.3\n",
    "\t\tn_estimators=400,  # 树的个数\n",
    "\t\tmax_depth=3,\n",
    "\t)\n",
    "\tclf.fit(train_x, train_y)\n",
    "\ttest_preds['y_pred'] = clf.predict(test_x)\n",
    "\tstdm = metrics.r2_score(test_preds['label'], test_preds['y_pred'])\n",
    "\t\n",
    "\timport matplotlib.pyplot as plt  # 画出预测结果图\n",
    "\tp = test_preds[['label', 'y_pred']].plot(subplots=True, style=['b-o', 'r-*'])\n",
    "\tplt.plot(test_preds['label'], c='blue')\n",
    "\tplt.plot(test_preds['y_pred'], c='red')\n",
    "\tplt.show()\n",
    "\t\n",
    "\treturn stdm, clf\n",
    "\n",
    "\n",
    "def GDBTest(X, y, clf):\n",
    "\ttest_preds = pd.DataFrame({\"label\": y})\n",
    "\ttest_preds['y_pred'] = clf.predict(X)\n",
    "\t# print(test_preds)\n",
    "\tstdm = metrics.r2_score(test_preds['label'], test_preds['y_pred'])\n",
    "\timport matplotlib.pyplot as plt  # 画出预测结果图\n",
    "\tp = test_preds[['label', 'y_pred']].plot(subplots=True, style=['b-o', 'r-*'])\n",
    "\tplt.plot(test_preds['label'], c='blue')\n",
    "\tplt.plot(test_preds['y_pred'], c='red')\n",
    "\tplt.show()\n",
    "\treturn stdm\n",
    "\n",
    "\n",
    "def XGTSearch(X, y):\n",
    "\tprint(\"Parameter optimization\")\n",
    "\tn_estimators = [50, 100, 200, 400, 500]\n",
    "\tmax_depth = [2, 4, 6, 8, 16]\n",
    "\tlearning_rate = [0.0001, 0.001, 0.01, 0.1, 0.2, 0.3]\n",
    "\tparam_grid = dict(max_depth=max_depth, n_estimators=n_estimators, learning_rate=learning_rate)\n",
    "\txgb_model = XGBRegressor()\n",
    "\tkfold = TimeSeriesSplit(n_splits=2).get_n_splits([X, y])\n",
    "\tfit_params = {\"eval_metric\": \"rmse\"}\n",
    "\tgrid_search = GridSearchCV(xgb_model, param_grid, verbose=1, fit_params=fit_params, cv=kfold)\n",
    "\tgrid_result = grid_search.fit(X, y)\n",
    "\t# summarize results\n",
    "\tprint(\"Best: %f using %s\" % (grid_result.best_score_, grid_result.best_params_))\n",
    "\tmeans = grid_result.cv_results_['mean_test_score']\n",
    "\tstds = grid_result.cv_results_['std_test_score']\n",
    "\tparams = grid_result.cv_results_['params']\n",
    "\tfor mean, stdev, param in zip(means, stds, params):\n",
    "\t\tprint(\"%f (%f) with: %r\" % (mean, stdev, param))\n",
    "\t\n",
    "\treturn means, grid_result\n",
    "\n",
    "\n",
    "if __name__ == \"__main__\":\n",
    "\tX_data_train = pd.read_csv('X_50.csv', encoding=\"gb18030\")\n",
    "\tY_data_train = pd.read_csv('Y_50.csv', encoding=\"gb18030\")\n",
    "\tY_data_train = Y_data_train['times']\n",
    "\tout = 'frazee'\n",
    "\tprint(\"输入数据类型：\", X_data_train.shape)\n",
    "\tprint(\"标签类型：\", Y_data_train.shape)\n",
    "\tX = X_data_train.as_matrix()\n",
    "\ty = Y_data_train.as_matrix()\n",
    "\tstdm, clf = GDBTTrain(X, y)\n",
    "\tprint('saving model')\n",
    "\tpath = './model/' + out + '_xgb.pkl'\n",
    "\twith open(path, \"wb\") as f:\n",
    "\t\tpickle.dump(clf, f)\n",
    "\tprint(\"训练结果\", stdm)\n",
    "\ta,b = XGTSearch(X, y)\n",
    "\tX_data_test = pd.read_csv('X_16.csv', encoding=\"gb18030\")\n",
    "\tY_data_test = pd.read_csv('Y_16.csv', encoding=\"gb18030\")\n",
    "\tY_data_test = Y_data_test['times']\n",
    "\t\n",
    "\tX = X_data_test.as_matrix()\n",
    "\ty = Y_data_test.as_matrix()\n",
    "\tpath = './model/' + out + '_xgb.pkl'\n",
    "\twith open(path, 'rb') as f:\n",
    "\t\tmodel = pickle.load(f)\n",
    "\t\tstdm = GDBTest(X, y, model)\n",
    "\t\tprint(\"测试结果：\", stdm)\n",
    "  "
   ]
  },
  {
   "cell_type": "markdown",
   "metadata": {},
   "source": []
  }
 ],
 "metadata": {
  "kernelspec": {
   "display_name": "Python 3",
   "language": "python",
   "name": "python3"
  },
  "language_info": {
   "codemirror_mode": {
    "name": "ipython",
    "version": 3
   },
   "file_extension": ".py",
   "mimetype": "text/x-python",
   "name": "python",
   "nbconvert_exporter": "python",
   "pygments_lexer": "ipython3",
   "version": "3.6.4"
  },
  "toc": {
   "nav_menu": {},
   "number_sections": true,
   "sideBar": true,
   "skip_h1_title": false,
   "title_cell": "Table of Contents",
   "title_sidebar": "Contents",
   "toc_cell": false,
   "toc_position": {},
   "toc_section_display": true,
   "toc_window_display": false
  }
 },
 "nbformat": 4,
 "nbformat_minor": 2
}

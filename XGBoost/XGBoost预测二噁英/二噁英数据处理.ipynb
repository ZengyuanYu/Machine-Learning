{
 "cells": [
  {
   "cell_type": "markdown",
   "metadata": {},
   "source": [
    "## 对二噁英的原始数据进行清洗"
   ]
  },
  {
   "cell_type": "markdown",
   "metadata": {},
   "source": [
    "从excel文件中读取二噁英的影响因子和结果，将其拼接到一个sheet里面。"
   ]
  },
  {
   "cell_type": "code",
   "execution_count": 1,
   "metadata": {},
   "outputs": [
    {
     "name": "stderr",
     "output_type": "stream",
     "text": [
      "/home/yu/anaconda3/lib/python3.6/site-packages/pandas/util/_decorators.py:118: FutureWarning: The `sheetname` keyword is deprecated, use `sheet_name` instead\n",
      "  return func(*args, **kwargs)\n"
     ]
    }
   ],
   "source": [
    "#-*- coding :utf-8-*-\n",
    "from functools import reduce\n",
    "\n",
    "import pandas as pd\n",
    "\n",
    "ereying='二噁英工控数据（1#炉）.xlsx'#二噁英数据\n",
    "\n",
    "data1 = pd.read_excel(ereying, sheet_name=u'尾部烟道进口烟气温度')\n",
    "data2 = pd.read_excel(ereying, sheet_name=u'炉尾部烟道出口烟气温度')\n",
    "data3 = pd.read_excel(ereying, sheet_name=u'炉膛出口O2浓度1')\n",
    "data4 = pd.read_excel(ereying, sheet_name=u'炉膛出口O2浓度2')\n",
    "data5 = pd.read_excel(ereying, sheet_name=u'CO的浓度')\n",
    "data6 = pd.read_excel(ereying, sheet_name=u'炉膛第一烟道出口烟气温度')\n",
    "data7 = pd.read_excel(ereying, sheet_name=u'炉膛第一烟道入口烟气温度')\n",
    "data8 = pd.read_excel(ereying, sheet_name=u'活性炭喷射量')\n",
    "data9 = pd.read_excel(ereying, sheet_name=u'一次风机实际运行电流')\n",
    "data10 = pd.read_excel(ereying, sheet_name=u'二次风机实际运行电流')\n",
    "data11 = pd.read_excel(ereying, sheet_name=u'锅炉蒸汽量')\n",
    "data12 = pd.read_excel(ereying, sheet_name=u'二噁英排放浓度')\n",
    "\n",
    "\n",
    "dfs=[data1,data2,data3,data4,data5,data6,data7,data8,data9,data10,data11,data12]\n",
    "df_final=reduce(lambda left,right:pd.merge(left,right,on='时间',how='outer'), dfs)\n",
    "names = [u'时间',u'尾部烟道进口烟气温度',u'炉尾部烟道出口烟气温度',u'炉膛出口O2浓度1',u'炉膛出口O2浓度2',u'CO的浓度',u'炉膛第一烟道出口烟气温度',\n",
    "         u'炉膛第一烟道入口烟气温度',u'活性炭喷射量',u'一次风机实际运行电流',u'二次风机实际运行电流',u'锅炉蒸汽量',u'二噁英排放浓度']\n",
    "df_final.columns = names\n",
    "df_final.to_excel('X_y.xlsx')"
   ]
  },
  {
   "cell_type": "markdown",
   "metadata": {},
   "source": [
    "整理数据，每一个小时的测量值相加，按照时间进行重新排序，将结果转换成为csv文件,空白的地方写0"
   ]
  },
  {
   "cell_type": "code",
   "execution_count": 3,
   "metadata": {
    "collapsed": true
   },
   "outputs": [],
   "source": [
    "import pandas as pd\n",
    "ereying=pd.DataFrame(pd.read_excel('X_y.xlsx'))\n",
    "ereying=ereying.set_index(u'时间')\n",
    "\n",
    "ereying2=ereying.resample('H').sum()\n",
    "\n",
    "ereying2.to_csv('X_y.csv',encoding='utf-8')"
   ]
  },
  {
   "cell_type": "markdown",
   "metadata": {},
   "source": [
    "由数据得知前面没有二噁英浓度的数据，删除前面部分"
   ]
  },
  {
   "cell_type": "code",
   "execution_count": 6,
   "metadata": {
    "collapsed": true
   },
   "outputs": [],
   "source": [
    "import pandas as pd\n",
    "\n",
    "data = pd.DataFrame(pd.read_csv('X_y.csv'))\n",
    "data.iloc[1549:, :].to_csv('X_y_12-04.csv', index=False)"
   ]
  },
  {
   "cell_type": "markdown",
   "metadata": {},
   "source": [
    "对数据中二噁英浓度为0的行删除"
   ]
  },
  {
   "cell_type": "code",
   "execution_count": 3,
   "metadata": {},
   "outputs": [
    {
     "name": "stdout",
     "output_type": "stream",
     "text": [
      "(6443, 13)\n"
     ]
    }
   ],
   "source": [
    "import pandas as pd\n",
    "data = pd.DataFrame(pd.read_csv('X_y_12-04.csv')\n",
    "                   )\n",
    "data[data[u'二噁英排放浓度']!=0].to_csv('X_y_nozero.csv', index=False)\n",
    "print(data.shape)\n",
    "# data.to_csv('X_y_nozero.csv')\n",
    "data = pd.DataFrame(pd.read_csv('X_y_nozero.csv')\n",
    "                   )\n",
    "data[data[u'锅炉蒸汽量']!=0].to_csv('X_y_nozero1.csv', index=False)"
   ]
  },
  {
   "cell_type": "markdown",
   "metadata": {},
   "source": [
    "将所有影响因子全为零但二噁英浓度不为0的行删除"
   ]
  },
  {
   "cell_type": "code",
   "execution_count": 4,
   "metadata": {
    "collapsed": true
   },
   "outputs": [],
   "source": [
    "import pandas as pd\n",
    "data = pd.DataFrame(pd.read_csv('X_y_nozero1.csv')\n",
    "                   )\n",
    "data[data[u'尾部烟道进口烟气温度']!=0].to_csv('X_y_nozero2.csv', index=False)\n",
    "data = pd.DataFrame(pd.read_csv('X_y_nozero2.csv')\n",
    "                   )\n",
    "data[data[u'炉膛出口O2浓度1']!=-30].to_csv('X_y_nozero3.csv', index=False)\n"
   ]
  },
  {
   "cell_type": "markdown",
   "metadata": {},
   "source": [
    "训练数据和标签进行分离"
   ]
  },
  {
   "cell_type": "code",
   "execution_count": 5,
   "metadata": {},
   "outputs": [],
   "source": [
    "import pandas as pd\n",
    "\n",
    "data = pd.DataFrame(pd.read_csv('X_y_nozero3.csv'))\n",
    "\n",
    "X_train = data.iloc[:, 1:12]\n",
    "\n",
    "X_train.to_csv('X_train.csv', index=False)\n",
    "Y_label = data.iloc[:,-1]\n",
    "names = [u'二噁英排放浓度']\n",
    "Y_label.columns = 'times'\n",
    "Y_label.to_csv('Y_label.csv', index=False, header=u'二噁英排放浓度')"
   ]
  },
  {
   "cell_type": "markdown",
   "metadata": {},
   "source": [
    "分开训练集和验证集"
   ]
  },
  {
   "cell_type": "code",
   "execution_count": 7,
   "metadata": {},
   "outputs": [
    {
     "name": "stdout",
     "output_type": "stream",
     "text": [
      "4852\n"
     ]
    }
   ],
   "source": [
    "import pandas as pd\n",
    "#训练集和验证集分离\n",
    "data_train = pd.DataFrame(pd.read_csv('X_train.csv'))\n",
    "\n",
    "X_train_split = data_train.iloc[400:4871, :]\n",
    "X_val_split = data_train.iloc[0:400, :]\n",
    "\n",
    "X_train_split.to_csv('X_train_split.csv', index=False)\n",
    "X_val_split.to_csv('X_val_split.csv', index=False)\n",
    "\n",
    "#标签分离\n",
    "data_label = pd.DataFrame(pd.read_csv('Y_label.csv'))\n",
    "print(len(data_label))\n",
    "Y_train_split = data_label.iloc[400:4871, :]\n",
    "Y_val_split = data_label.iloc[0:400, :]\n",
    "\n",
    "Y_train_split.to_csv('Y_train_split.csv', index=False)\n",
    "Y_val_split.to_csv('Y_val_split.csv', index=False)\n",
    "\n"
   ]
  },
  {
   "cell_type": "code",
   "execution_count": 8,
   "metadata": {},
   "outputs": [
    {
     "name": "stdout",
     "output_type": "stream",
     "text": [
      "(399, 11)\n",
      "(398, 11)\n",
      "(397, 11)\n",
      "(396, 11)\n",
      "(395, 11)\n",
      "(394, 11)\n",
      "(393, 11)\n",
      "(392, 11)\n",
      "(391, 11)\n",
      "(390, 11)\n",
      "(389, 11)\n",
      "(388, 11)\n",
      "(387, 11)\n",
      "(386, 11)\n",
      "(385, 11)\n",
      "(384, 11)\n",
      "(383, 11)\n",
      "(382, 11)\n",
      "(381, 11)\n",
      "(380, 11)\n",
      "(379, 11)\n",
      "(378, 11)\n",
      "(377, 11)\n",
      "(376, 11)\n",
      "(375, 11)\n",
      "(374, 11)\n",
      "(373, 11)\n",
      "(372, 11)\n",
      "(371, 11)\n",
      "(370, 11)\n",
      "(369, 11)\n",
      "(368, 11)\n",
      "(367, 11)\n",
      "(366, 11)\n",
      "(365, 11)\n",
      "(364, 11)\n",
      "(363, 11)\n",
      "(362, 11)\n",
      "(361, 11)\n",
      "(360, 11)\n",
      "(359, 11)\n",
      "(358, 11)\n",
      "(357, 11)\n",
      "(356, 11)\n",
      "(355, 11)\n",
      "(354, 11)\n",
      "(353, 11)\n",
      "(352, 11)\n",
      "(351, 11)\n",
      "(350, 11)\n",
      "(349, 11)\n",
      "(348, 11)\n",
      "(347, 11)\n",
      "(346, 11)\n",
      "(345, 11)\n",
      "(344, 11)\n",
      "(343, 11)\n",
      "(342, 11)\n",
      "(341, 11)\n",
      "(340, 11)\n",
      "(339, 11)\n",
      "(338, 11)\n",
      "(337, 11)\n",
      "(336, 11)\n",
      "(335, 11)\n",
      "(334, 11)\n",
      "(333, 11)\n",
      "(332, 11)\n",
      "(331, 11)\n",
      "(330, 11)\n",
      "(329, 11)\n",
      "(328, 11)\n",
      "(327, 11)\n",
      "(326, 11)\n",
      "(325, 11)\n",
      "(324, 11)\n",
      "(323, 11)\n",
      "(322, 11)\n",
      "(321, 11)\n",
      "(320, 11)\n",
      "(319, 11)\n",
      "(318, 11)\n",
      "(317, 11)\n",
      "(316, 11)\n",
      "(315, 11)\n",
      "(314, 11)\n",
      "(313, 11)\n",
      "(312, 11)\n",
      "(311, 11)\n",
      "(310, 11)\n",
      "(309, 11)\n",
      "(308, 11)\n",
      "(307, 11)\n",
      "(306, 11)\n",
      "(305, 11)\n",
      "(304, 11)\n",
      "(303, 11)\n",
      "(302, 11)\n",
      "(301, 11)\n",
      "(300, 11)\n",
      "(299, 11)\n",
      "(298, 11)\n",
      "(297, 11)\n",
      "(296, 11)\n",
      "(295, 11)\n",
      "(294, 11)\n",
      "(293, 11)\n",
      "(292, 11)\n",
      "(291, 11)\n",
      "(290, 11)\n",
      "(289, 11)\n",
      "(288, 11)\n",
      "(287, 11)\n",
      "(286, 11)\n",
      "(285, 11)\n",
      "(284, 11)\n",
      "(283, 11)\n",
      "(282, 11)\n",
      "(281, 11)\n",
      "(280, 11)\n",
      "(399, 1)\n",
      "(398, 1)\n",
      "(397, 1)\n",
      "(396, 1)\n",
      "(395, 1)\n",
      "(394, 1)\n",
      "(393, 1)\n",
      "(392, 1)\n",
      "(391, 1)\n",
      "(390, 1)\n",
      "(389, 1)\n",
      "(388, 1)\n",
      "(387, 1)\n",
      "(386, 1)\n",
      "(385, 1)\n",
      "(384, 1)\n",
      "(383, 1)\n",
      "(382, 1)\n",
      "(381, 1)\n",
      "(380, 1)\n",
      "(379, 1)\n",
      "(378, 1)\n",
      "(377, 1)\n",
      "(376, 1)\n",
      "(375, 1)\n",
      "(374, 1)\n",
      "(373, 1)\n",
      "(372, 1)\n",
      "(371, 1)\n",
      "(370, 1)\n",
      "(369, 1)\n",
      "(368, 1)\n",
      "(367, 1)\n",
      "(366, 1)\n",
      "(365, 1)\n",
      "(364, 1)\n",
      "(363, 1)\n",
      "(362, 1)\n",
      "(361, 1)\n",
      "(360, 1)\n",
      "(359, 1)\n",
      "(358, 1)\n",
      "(357, 1)\n",
      "(356, 1)\n",
      "(355, 1)\n",
      "(354, 1)\n",
      "(353, 1)\n",
      "(352, 1)\n",
      "(351, 1)\n",
      "(350, 1)\n",
      "(349, 1)\n",
      "(348, 1)\n",
      "(347, 1)\n",
      "(346, 1)\n",
      "(345, 1)\n",
      "(344, 1)\n",
      "(343, 1)\n",
      "(342, 1)\n",
      "(341, 1)\n",
      "(340, 1)\n",
      "(339, 1)\n",
      "(338, 1)\n",
      "(337, 1)\n",
      "(336, 1)\n",
      "(335, 1)\n",
      "(334, 1)\n",
      "(333, 1)\n",
      "(332, 1)\n",
      "(331, 1)\n",
      "(330, 1)\n",
      "(329, 1)\n",
      "(328, 1)\n",
      "(327, 1)\n",
      "(326, 1)\n",
      "(325, 1)\n",
      "(324, 1)\n",
      "(323, 1)\n",
      "(322, 1)\n",
      "(321, 1)\n",
      "(320, 1)\n",
      "(319, 1)\n",
      "(318, 1)\n",
      "(317, 1)\n",
      "(316, 1)\n",
      "(315, 1)\n",
      "(314, 1)\n",
      "(313, 1)\n",
      "(312, 1)\n",
      "(311, 1)\n",
      "(310, 1)\n",
      "(309, 1)\n",
      "(308, 1)\n",
      "(307, 1)\n",
      "(306, 1)\n",
      "(305, 1)\n",
      "(304, 1)\n",
      "(303, 1)\n",
      "(302, 1)\n",
      "(301, 1)\n",
      "(300, 1)\n",
      "(299, 1)\n",
      "(298, 1)\n",
      "(297, 1)\n",
      "(296, 1)\n",
      "(295, 1)\n",
      "(294, 1)\n",
      "(293, 1)\n",
      "(292, 1)\n",
      "(291, 1)\n",
      "(290, 1)\n",
      "(289, 1)\n",
      "(288, 1)\n",
      "(287, 1)\n",
      "(286, 1)\n",
      "(285, 1)\n",
      "(284, 1)\n",
      "(283, 1)\n",
      "(282, 1)\n",
      "(281, 1)\n",
      "(280, 1)\n"
     ]
    }
   ],
   "source": [
    "import pandas as pd\n",
    "\n",
    "X_data = pd.DataFrame(pd.read_csv('X_val_split.csv'))\n",
    "i= 50\n",
    "for i in range(120):\n",
    "    data1 = X_data.drop([i])\n",
    "    X_data = data1\n",
    "    print(data1.shape)\n",
    "data1.to_csv('X_val_split_clear.csv', index=False)\n",
    "\n",
    "Y_data = pd.DataFrame(pd.read_csv('Y_val_split.csv'))\n",
    "i= 50\n",
    "for i in range(120):\n",
    "    data2 = Y_data.drop([i])\n",
    "    Y_data = data2\n",
    "    print(data2.shape)\n",
    "data2.to_csv('Y_val_split_clear.csv', index=False)"
   ]
  }
 ],
 "metadata": {
  "kernelspec": {
   "display_name": "Python 3",
   "language": "python",
   "name": "python3"
  },
  "language_info": {
   "codemirror_mode": {
    "name": "ipython",
    "version": 3
   },
   "file_extension": ".py",
   "mimetype": "text/x-python",
   "name": "python",
   "nbconvert_exporter": "python",
   "pygments_lexer": "ipython3",
   "version": "3.6.3"
  },
  "toc": {
   "nav_menu": {},
   "number_sections": true,
   "sideBar": true,
   "skip_h1_title": false,
   "title_cell": "Table of Contents",
   "title_sidebar": "Contents",
   "toc_cell": false,
   "toc_position": {},
   "toc_section_display": true,
   "toc_window_display": false
  }
 },
 "nbformat": 4,
 "nbformat_minor": 2
}

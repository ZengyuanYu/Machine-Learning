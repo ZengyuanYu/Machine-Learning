{
 "cells": [
  {
   "cell_type": "markdown",
   "metadata": {},
   "source": [
    "## 对二噁英的原始数据进行清洗"
   ]
  },
  {
   "cell_type": "markdown",
   "metadata": {},
   "source": [
    "从excel文件中读取二噁英的影响因子和结果，将其拼接到一个sheet里面。"
   ]
  },
  {
   "cell_type": "code",
   "execution_count": 1,
   "metadata": {},
   "outputs": [
    {
     "name": "stderr",
     "output_type": "stream",
     "text": [
      "/home/yu/anaconda3/lib/python3.6/site-packages/pandas/util/_decorators.py:118: FutureWarning: The `sheetname` keyword is deprecated, use `sheet_name` instead\n",
      "  return func(*args, **kwargs)\n"
     ]
    }
   ],
   "source": [
    "#-*- coding :utf-8-*-\n",
    "from functools import reduce\n",
    "\n",
    "import pandas as pd\n",
    "\n",
    "ereying='二噁英工控数据（1#炉）.xlsx'#二噁英数据\n",
    "\n",
    "data1 = pd.read_excel(ereying, sheet_name=u'尾部烟道进口烟气温度')\n",
    "data2 = pd.read_excel(ereying, sheet_name=u'炉尾部烟道出口烟气温度')\n",
    "data3 = pd.read_excel(ereying, sheet_name=u'炉膛出口O2浓度1')\n",
    "data4 = pd.read_excel(ereying, sheet_name=u'炉膛出口O2浓度2')\n",
    "data5 = pd.read_excel(ereying, sheet_name=u'CO的浓度')\n",
    "data6 = pd.read_excel(ereying, sheet_name=u'炉膛第一烟道出口烟气温度')\n",
    "data7 = pd.read_excel(ereying, sheet_name=u'炉膛第一烟道入口烟气温度')\n",
    "data8 = pd.read_excel(ereying, sheet_name=u'活性炭喷射量')\n",
    "data9 = pd.read_excel(ereying, sheet_name=u'一次风机实际运行电流')\n",
    "data10 = pd.read_excel(ereying, sheet_name=u'二次风机实际运行电流')\n",
    "data11 = pd.read_excel(ereying, sheet_name=u'锅炉蒸汽量')\n",
    "data12 = pd.read_excel(ereying, sheet_name=u'二噁英排放浓度')\n",
    "\n",
    "\n",
    "dfs=[data1,data2,data3,data4,data5,data6,data7,data8,data9,data10,data11,data12]\n",
    "df_final=reduce(lambda left,right:pd.merge(left,right,on='时间',how='outer'), dfs)\n",
    "names = [u'时间',u'尾部烟道进口烟气温度',u'炉尾部烟道出口烟气温度',u'炉膛出口O2浓度1',u'炉膛出口O2浓度2',u'CO的浓度',u'炉膛第一烟道出口烟气温度',\n",
    "         u'炉膛第一烟道入口烟气温度',u'活性炭喷射量',u'一次风机实际运行电流',u'二次风机实际运行电流',u'锅炉蒸汽量',u'二噁英排放浓度']\n",
    "df_final.columns = names\n",
    "df_final.to_excel('X_y.xlsx')"
   ]
  },
  {
   "cell_type": "markdown",
   "metadata": {},
   "source": [
    "整理数据，每一个小时的测量值相加，按照时间进行重新排序，将结果转换成为csv文件,空白的地方写0"
   ]
  },
  {
   "cell_type": "code",
   "execution_count": 3,
   "metadata": {},
   "outputs": [],
   "source": [
    "import pandas as pd\n",
    "ereying=pd.DataFrame(pd.read_excel('X_y.xlsx'))\n",
    "ereying=ereying.set_index(u'时间')\n",
    "\n",
    "ereying2=ereying.resample('H').sum()\n",
    "\n",
    "ereying2.to_csv('X_y.csv',encoding='utf-8')"
   ]
  },
  {
   "cell_type": "markdown",
   "metadata": {},
   "source": [
    "由数据得知前面没有二噁英浓度的数据，删除前面部分"
   ]
  },
  {
   "cell_type": "code",
   "execution_count": 6,
   "metadata": {},
   "outputs": [],
   "source": [
    "import pandas as pd\n",
    "\n",
    "data = pd.DataFrame(pd.read_csv('X_y.csv'))\n",
    "data.iloc[1549:, :].to_csv('X_y_12-04.csv', index=False)"
   ]
  },
  {
   "cell_type": "markdown",
   "metadata": {},
   "source": [
    "对数据中二噁英浓度为0的行删除"
   ]
  },
  {
   "cell_type": "code",
   "execution_count": 7,
   "metadata": {},
   "outputs": [],
   "source": [
    "import pandas as pd\n",
    "data = pd.DataFrame(pd.read_csv('X_y_12-04.csv'))\n",
    "                   \n",
    "data[data[u'二噁英排放浓度']!=0].to_csv('X_y_ereying_nozero.csv', index=False)"
   ]
  },
  {
   "cell_type": "markdown",
   "metadata": {},
   "source": [
    "将所有影响因子全为零但二噁英浓度不为0的行删除"
   ]
  },
  {
   "cell_type": "code",
   "execution_count": 8,
   "metadata": {},
   "outputs": [],
   "source": [
    "import pandas as pd\n",
    "data = pd.DataFrame(pd.read_csv('X_y_ereying_nozero.csv'))\n",
    "\n",
    "data[data[u'锅炉蒸汽量']!=0].to_csv('X_y_all_nozero.csv', index=False)"
   ]
  }
 ],
 "metadata": {
  "kernelspec": {
   "display_name": "Python 3",
   "language": "python",
   "name": "python3"
  },
  "language_info": {
   "codemirror_mode": {
    "name": "ipython",
    "version": 3
   },
   "file_extension": ".py",
   "mimetype": "text/x-python",
   "name": "python",
   "nbconvert_exporter": "python",
   "pygments_lexer": "ipython3",
   "version": "3.6.4"
  },
  "toc": {
   "nav_menu": {},
   "number_sections": true,
   "sideBar": true,
   "skip_h1_title": false,
   "title_cell": "Table of Contents",
   "title_sidebar": "Contents",
   "toc_cell": false,
   "toc_position": {},
   "toc_section_display": true,
   "toc_window_display": false
  }
 },
 "nbformat": 4,
 "nbformat_minor": 2
}

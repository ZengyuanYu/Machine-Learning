{
 "cells": [
  {
   "cell_type": "markdown",
   "metadata": {},
   "source": [
    "数据集共有60000张，分割成50000张训练集10000张测试集\n",
    "`lambda`是匿名函数的标志，比如一个函数正常的时候这样写：\n",
    "```\n",
    "def f(x):\n",
    "    a = x**2\n",
    "    return a\n",
    "a = f(4)\n",
    "```\n",
    "也可以简单的写成：\n",
    "```g = lambda x: x**2 a = g(4)```\n",
    "`map(function, iterable, ...)`是将`iterable`的数值依次放入`function`里面，比如下面例子：\n",
    "\n",
    "```map(lambda x: x ** 2, [1, 2, 3, 4, 5])  \n",
    "结果：\n",
    "[1, 4, 9, 16, 25]\n",
    "```\n"
   ]
  },
  {
   "cell_type": "code",
   "execution_count": 5,
   "metadata": {
    "scrolled": true
   },
   "outputs": [],
   "source": [
    "import os, random, time\n",
    "def get_imgs(rate=0.2):\n",
    "    \"\"\"\n",
    "    获取图片，并划分训练集和测试集\n",
    "    参数：\n",
    "        rate:测试集和训练集的比例，rate=测试集个数/训练集个数\n",
    "    返回值：\n",
    "        test_imgs:测试集\n",
    "        test_labels:测试集标签\n",
    "        train_imgs:训练集\n",
    "        train_labels:训练集标签\n",
    "    \"\"\"\n",
    "    data_path = './Discuz'\n",
    "    #读取图片\n",
    "    imgs = os.listdir(data_path)\n",
    "    #打乱图片的顺序\n",
    "    random.shuffle(imgs)\n",
    "    #计算出数据量\n",
    "    imgs_num = len(imgs)\n",
    "    #按照rate比例算出测试集个数\n",
    "    test_num = int(imgs_num * rate / (1 + rate))\n",
    "    #测试集数据,从打乱的数据集里面取前test_num个数据\n",
    "    test_imgs = imgs[:test_num]\n",
    "    #根据文件名字来获得测试集标签\n",
    "    #文件名为`a2ai.jpg`\n",
    "    test_labels = list(map(lambda x: x.split('.')[0], test_imgs))\n",
    "    #训练集\n",
    "    train_imgs = imgs[test_num:]\n",
    "    #训练集标签\n",
    "    train_labels = list(map(lambda x: x.split('.')[0], train_imgs))\n",
    "    return test_imgs, test_labels, train_imgs, train_labels"
   ]
  },
  {
   "cell_type": "markdown",
   "metadata": {},
   "source": [
    "标签向量化，以及向量化的标签进行还原\n",
    "\n",
    "|字符|ASCII码|\n",
    "|-|-|\n",
    "|0|48|\n",
    "|9|57|\n",
    "|A|65|\n",
    "|Z|90|\n",
    "|a|97|\n",
    "|z|122|"
   ]
  },
  {
   "cell_type": "code",
   "execution_count": 12,
   "metadata": {},
   "outputs": [
    {
     "name": "stdout",
     "output_type": "stream",
     "text": [
      "[0. 0. 0. 0. 0. 0. 0. 0. 0. 0. 0. 0. 0. 0. 0. 0. 0. 0. 0. 0. 0. 0. 0. 0.\n",
      " 0. 0. 0. 0. 0. 0. 0. 0. 0. 0. 0. 0. 1. 0. 0. 0. 0. 0. 0. 0. 0. 0. 0. 0.\n",
      " 0. 0. 0. 0. 0. 0. 0. 0. 0. 0. 0. 0. 0. 0. 0. 0. 0. 0. 0. 0. 0. 0. 0. 0.\n",
      " 0. 0. 0. 0. 0. 0. 0. 0. 0. 0. 0. 0. 0. 0. 0. 0. 0. 0. 0. 0. 0. 0. 0. 0.\n",
      " 0. 0. 0. 0. 1. 0. 0. 0. 0. 0. 0. 0. 0. 0. 0. 0. 0. 0. 0. 0. 0. 0. 0. 0.\n",
      " 0. 0. 0. 0. 0. 0. 0. 0. 0. 0. 0. 0. 0. 0. 0. 0. 0. 0. 0. 0. 0. 0. 0. 0.\n",
      " 0. 0. 0. 0. 0. 0. 0. 0. 0. 0. 0. 0. 0. 0. 0. 0. 0. 0. 0. 0. 1. 0. 0. 0.\n",
      " 0. 0. 0. 0. 0. 0. 0. 0. 0. 0. 0. 0. 0. 0. 0. 0. 0. 0. 0. 0. 0. 0. 0. 0.\n",
      " 0. 0. 0. 0. 0. 0. 0. 0. 0. 0. 0. 0. 0. 0. 0. 0. 0. 0. 0. 0. 0. 0. 0. 0.\n",
      " 0. 0. 0. 0. 0. 0. 0. 0. 0. 0. 0. 0. 1. 0. 0. 0. 0. 0. 0. 0. 0. 0. 0. 0.\n",
      " 0. 0. 0. 0. 0. 0. 0. 0. 0. 0. 0. 0.]\n",
      "abcd\n"
     ]
    }
   ],
   "source": [
    "import numpy as np\n",
    "def text2vec(text):\n",
    "    \"\"\"\n",
    "    文本转向量\n",
    "    参数：\n",
    "        text:文本 例如`a1df`\n",
    "    返回值：\n",
    "        vector:向量\n",
    "    \"\"\"\n",
    "    if len(text) > 4:\n",
    "        raise ValueError('验证码最长4个字符')\n",
    "    \n",
    "    vector = np.zeros(4 * 63)\n",
    "    def char2pos(c):\n",
    "        if c == '_':\n",
    "            k = 62\n",
    "            return k\n",
    "        k = ord(c) - 48 #判断是否为数字\n",
    "        if k > 9:\n",
    "            k = ord(c) - 55 #判断是否为大写字母\n",
    "            if k > 35:\n",
    "                k = ord(c) - 61 #判断是否为小写字母\n",
    "                if k > 61:\n",
    "                    raise ValueError('No map')\n",
    "        return k\n",
    "    for i, c in enumerate(text):\n",
    "        idx = i * 63 + char2pos(c)\n",
    "        vector[idx] = 1\n",
    "    return vector\n",
    "\n",
    "def vec2text(vec):\n",
    "    \"\"\"\n",
    "    向量转为文本\n",
    "    参数：\n",
    "        vec:向量\n",
    "    返回值：\n",
    "        文本\n",
    "    \"\"\"\n",
    "    char_pos = vec.nonzero()[0]\n",
    "    text = []\n",
    "    for i, c in enumerate(char_pos):\n",
    "        char_at_pos = i #c/63\n",
    "        char_idx = c % 63\n",
    "        if char_idx < 10:\n",
    "            char_code = char_idx + ord('0')\n",
    "        elif char_idx < 36:\n",
    "            char_code = char_idx - 10 + ord('A')\n",
    "        elif char_idx < 62:\n",
    "            char_code = char_idx - 36 + ord('a')\n",
    "        elif char_idx == 62:\n",
    "            char_code = ord('_')\n",
    "        else:\n",
    "            raise ValueError('error')\n",
    "        text.append(chr(char_code))\n",
    "    return \"\".join(text)\n",
    "print(text2vec('abcd'))\n",
    "print(vec2text(text2vec('abcd')))"
   ]
  },
  {
   "cell_type": "markdown",
   "metadata": {},
   "source": [
    "根据batch_size获取数据，从数据集中去除batch_size的数据"
   ]
  },
  {
   "cell_type": "code",
   "execution_count": 15,
   "metadata": {},
   "outputs": [
    {
     "ename": "TabError",
     "evalue": "inconsistent use of tabs and spaces in indentation (<ipython-input-15-b03271aa1611>, line 15)",
     "output_type": "error",
     "traceback": [
      "\u001b[0;36m  File \u001b[0;32m\"<ipython-input-15-b03271aa1611>\"\u001b[0;36m, line \u001b[0;32m15\u001b[0m\n\u001b[0;31m    trains = self.train_imgs[self.train_ptr:(self.train_ptr + batch_size)]\u001b[0m\n\u001b[0m                                                                          ^\u001b[0m\n\u001b[0;31mTabError\u001b[0m\u001b[0;31m:\u001b[0m inconsistent use of tabs and spaces in indentation\n"
     ]
    }
   ],
   "source": []
  }
 ],
 "metadata": {
  "kernelspec": {
   "display_name": "Python 3",
   "language": "python",
   "name": "python3"
  },
  "language_info": {
   "codemirror_mode": {
    "name": "ipython",
    "version": 3
   },
   "file_extension": ".py",
   "mimetype": "text/x-python",
   "name": "python",
   "nbconvert_exporter": "python",
   "pygments_lexer": "ipython3",
   "version": "3.6.4"
  },
  "toc": {
   "nav_menu": {},
   "number_sections": true,
   "sideBar": true,
   "skip_h1_title": false,
   "title_cell": "Table of Contents",
   "title_sidebar": "Contents",
   "toc_cell": false,
   "toc_position": {},
   "toc_section_display": true,
   "toc_window_display": false
  }
 },
 "nbformat": 4,
 "nbformat_minor": 2
}
